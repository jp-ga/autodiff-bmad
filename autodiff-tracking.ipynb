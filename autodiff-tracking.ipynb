{
 "cells": [
  {
   "cell_type": "markdown",
   "id": "cfe2f3e6-ab7f-4493-8ca4-acd56731bc0b",
   "metadata": {
    "tags": []
   },
   "source": [
    "# Tracking through elements with autodiff"
   ]
  },
  {
   "cell_type": "code",
   "execution_count": 1,
   "id": "8af3d886-d3bd-4e34-9556-d645ee9f761e",
   "metadata": {
    "tags": []
   },
   "outputs": [
    {
     "data": {
      "text/plain": [
       "('1.10.2', '1.22.2')"
      ]
     },
     "execution_count": 1,
     "metadata": {},
     "output_type": "execute_result"
    }
   ],
   "source": [
    "import numpy as np\n",
    "import torch\n",
    "from torch.autograd.functional import jacobian\n",
    "from torch.autograd.functional import hessian\n",
    "from pytao import Tao\n",
    "import matplotlib.pyplot as plt\n",
    "import numdifftools as nd\n",
    "from track import *\n",
    "tkwargs = {\n",
    "    \"dtype\" : torch.double\n",
    "}\n",
    "import time\n",
    "np.set_printoptions(precision= 16, suppress=False)\n",
    "torch.set_printoptions(precision= 16, sci_mode=True)\n",
    "torch.__version__, np.__version__"
   ]
  },
  {
   "cell_type": "markdown",
   "id": "4195b788-22c6-4f75-bb00-a417cf041292",
   "metadata": {
    "tags": [],
    "toc-hr-collapsed": true
   },
   "source": [
    "# Constants"
   ]
  },
  {
   "cell_type": "code",
   "execution_count": 2,
   "id": "c3f66538-b1d3-448d-a15b-82cae88067f6",
   "metadata": {
    "tags": []
   },
   "outputs": [],
   "source": [
    "c_light = 2.99792458e8 #speed of light in m/s\n",
    "m_e = 0.510998950e6 #electron mass in eV"
   ]
  },
  {
   "cell_type": "markdown",
   "id": "7638cac6-72c7-4e95-ae44-6ff97b375ae3",
   "metadata": {
    "tags": []
   },
   "source": [
    "# Drift tests"
   ]
  },
  {
   "cell_type": "code",
   "execution_count": 3,
   "id": "ee6fdf69-c492-4bc0-83c9-9b6a0400ef1f",
   "metadata": {
    "tags": []
   },
   "outputs": [
    {
     "data": {
      "text/plain": [
       "Drift(L=tensor(1.0000000000000000e+00, dtype=torch.float64))"
      ]
     },
     "execution_count": 3,
     "metadata": {},
     "output_type": "execute_result"
    }
   ],
   "source": [
    "# Create drift\n",
    "L=1.0 # Drift length in m\n",
    "d1 = Drift(torch.tensor(L, **tkwargs)) #named tuple is in track.py module\n",
    "d1"
   ]
  },
  {
   "cell_type": "markdown",
   "id": "f47cc1d4-c514-4f23-a70b-b692e4a0c4dc",
   "metadata": {
    "tags": []
   },
   "source": [
    "## Drift one particle test"
   ]
  },
  {
   "cell_type": "code",
   "execution_count": 4,
   "id": "22f5b59f-a16b-4e85-bc07-d9a6022c9dc2",
   "metadata": {
    "tags": []
   },
   "outputs": [
    {
     "data": {
      "text/plain": [
       "tensor([2.0000000000000000e-03, 3.0000000000000001e-03, -3.0000000000000001e-03,\n",
       "        -1.0000000000000000e-03, 2.0000000000000000e-03, -2.0000000000000000e-03],\n",
       "       dtype=torch.float64, requires_grad=True)"
      ]
     },
     "execution_count": 4,
     "metadata": {},
     "output_type": "execute_result"
    }
   ],
   "source": [
    "# Incoming particle\n",
    "s = 0.0 #initial s\n",
    "p0c = 4.0E+07 #Reference particle momentum in eV\n",
    "mc2 = 1*m_e # electron mass in eV\n",
    "ts = torch.tensor(s, **tkwargs)\n",
    "tp0c = torch.tensor(p0c, **tkwargs)\n",
    "tmc2 = torch.tensor(mc2, **tkwargs)\n",
    "pvec1 = [2e-3,3e-3,-3e-3,-1e-3,2e-3,-2e-3] \n",
    "tvec1 = torch.tensor(pvec1, requires_grad=True, **tkwargs)\n",
    "tvec1"
   ]
  },
  {
   "cell_type": "code",
   "execution_count": 5,
   "id": "2f852ced-da43-4f95-8578-779f46d15eb1",
   "metadata": {},
   "outputs": [
    {
     "data": {
      "text/plain": [
       "tensor([5.0060271145229325e-03, 3.0000000000000001e-03, -4.0020090381743109e-03,\n",
       "        -1.0000000000000000e-03, 1.9946525738924175e-03, -2.0000000000000000e-03],\n",
       "       dtype=torch.float64)"
      ]
     },
     "execution_count": 5,
     "metadata": {},
     "output_type": "execute_result"
    }
   ],
   "source": [
    "#create track_a_drift_torch\n",
    "track_a_drift_torch = make_track_a_drift(torch)\n",
    "# Outgoing particle\n",
    "p_out = track_a_drift_torch(Particle(*tvec1,ts, tp0c, tmc2), d1)\n",
    "x_py = torch.hstack([p_out.x,p_out.px,p_out.y,p_out.py,p_out.z,p_out.pz]).detach()\n",
    "x_py"
   ]
  },
  {
   "cell_type": "code",
   "execution_count": 6,
   "id": "7a6c2d68-8d1e-4eaa-9fd0-aa67111276da",
   "metadata": {
    "tags": []
   },
   "outputs": [],
   "source": [
    "# bmad lattice for comparison\n",
    "tao = Tao('-lat test_drift.bmad -noplot')\n",
    "tao.cmd('set particle_start x='+str(pvec1[0]))\n",
    "tao.cmd('set particle_start px='+str(pvec1[1]))\n",
    "tao.cmd('set particle_start y='+str(pvec1[2]))\n",
    "tao.cmd('set particle_start py='+str(pvec1[3]))\n",
    "tao.cmd('set particle_start z='+str(pvec1[4]))\n",
    "tao.cmd('set particle_start pz='+str(pvec1[5]))\n",
    "orbit_out=tao.orbit_at_s(ele=1)\n",
    "#orbit_out"
   ]
  },
  {
   "cell_type": "code",
   "execution_count": 7,
   "id": "f986a53a-edc8-48cc-93b7-28911872bc94",
   "metadata": {},
   "outputs": [
    {
     "data": {
      "text/plain": [
       "tensor([5.0060271145229299e-03, 3.0000000000000001e-03, -4.0020090381743100e-03,\n",
       "        -1.0000000000000000e-03, 1.9946525738923598e-03, -2.0000000000000000e-03],\n",
       "       dtype=torch.float64)"
      ]
     },
     "execution_count": 7,
     "metadata": {},
     "output_type": "execute_result"
    }
   ],
   "source": [
    "# bmad outgoing particle\n",
    "x_tao = torch.tensor([orbit_out['x'],orbit_out['px'],orbit_out['y'],orbit_out['py'],orbit_out['z'],orbit_out['pz']],**tkwargs)\n",
    "x_tao"
   ]
  },
  {
   "cell_type": "code",
   "execution_count": 8,
   "id": "729e2c24-ee37-4d5b-8b76-81d1f5107dbf",
   "metadata": {},
   "outputs": [
    {
     "data": {
      "text/plain": [
       "True"
      ]
     },
     "execution_count": 8,
     "metadata": {},
     "output_type": "execute_result"
    }
   ],
   "source": [
    "torch.allclose(x_py, x_tao)"
   ]
  },
  {
   "cell_type": "markdown",
   "id": "d8fae022-eda1-4b37-89a3-48d9c9fc3ddb",
   "metadata": {
    "tags": []
   },
   "source": [
    "## Drift Jacobian test"
   ]
  },
  {
   "cell_type": "code",
   "execution_count": 9,
   "id": "062c3a71-b3b9-48b5-85a3-d332f716496d",
   "metadata": {},
   "outputs": [],
   "source": [
    "f_drift = lambda x: track_a_drift_torch(Particle(*x, ts, tp0c, tmc2), d1)[:6]\n",
    "J = jacobian(f_drift, tvec1)"
   ]
  },
  {
   "cell_type": "code",
   "execution_count": 10,
   "id": "2f3a581f-157b-44bd-b596-185155a9c972",
   "metadata": {
    "tags": []
   },
   "outputs": [
    {
     "data": {
      "text/plain": [
       "tensor([[ 1.0000000000000000e+00,  1.0020180925273929e+00,\n",
       "          0.0000000000000000e+00, -3.0181176940051169e-06,\n",
       "          0.0000000000000000e+00, -3.0120814586171068e-03],\n",
       "        [ 0.0000000000000000e+00,  1.0000000000000000e+00,\n",
       "          0.0000000000000000e+00,  0.0000000000000000e+00,\n",
       "          0.0000000000000000e+00,  0.0000000000000000e+00],\n",
       "        [ 0.0000000000000000e+00, -3.0181176940051169e-06,\n",
       "          1.0000000000000000e+00,  1.0020100442135422e+00,\n",
       "          0.0000000000000000e+00,  1.0040271528723688e-03],\n",
       "        [ 0.0000000000000000e+00,  0.0000000000000000e+00,\n",
       "          0.0000000000000000e+00,  1.0000000000000000e+00,\n",
       "          0.0000000000000000e+00,  0.0000000000000000e+00],\n",
       "        [ 0.0000000000000000e+00, -3.0120814586171063e-03,\n",
       "          0.0000000000000000e+00,  1.0040271528723688e-03,\n",
       "          1.0000000000000000e+00,  1.7421652474771806e-04],\n",
       "        [ 0.0000000000000000e+00,  0.0000000000000000e+00,\n",
       "          0.0000000000000000e+00,  0.0000000000000000e+00,\n",
       "          0.0000000000000000e+00,  1.0000000000000000e+00]],\n",
       "       dtype=torch.float64)"
      ]
     },
     "execution_count": 10,
     "metadata": {},
     "output_type": "execute_result"
    }
   ],
   "source": [
    "# Jacobian matrix\n",
    "mat_py = torch.vstack(J)\n",
    "mat_py"
   ]
  },
  {
   "cell_type": "code",
   "execution_count": 11,
   "id": "9f168d28-5c4a-4db0-a649-c8bde823496c",
   "metadata": {},
   "outputs": [
    {
     "data": {
      "text/plain": [
       "tensor([[ 1.0000000000000000e+00,  1.0020180925273900e+00,\n",
       "          0.0000000000000000e+00, -3.0181176940051199e-06,\n",
       "          0.0000000000000000e+00, -3.0120814586171098e-03],\n",
       "        [ 0.0000000000000000e+00,  1.0000000000000000e+00,\n",
       "          0.0000000000000000e+00,  0.0000000000000000e+00,\n",
       "          0.0000000000000000e+00,  0.0000000000000000e+00],\n",
       "        [ 0.0000000000000000e+00, -3.0181176940051199e-06,\n",
       "          1.0000000000000000e+00,  1.0020100442135400e+00,\n",
       "          0.0000000000000000e+00,  1.0040271528723699e-03],\n",
       "        [ 0.0000000000000000e+00,  0.0000000000000000e+00,\n",
       "          0.0000000000000000e+00,  1.0000000000000000e+00,\n",
       "          0.0000000000000000e+00,  0.0000000000000000e+00],\n",
       "        [ 0.0000000000000000e+00, -3.0120814586171098e-03,\n",
       "          0.0000000000000000e+00,  1.0040271528723699e-03,\n",
       "          1.0000000000000000e+00,  1.7421652474810300e-04],\n",
       "        [ 0.0000000000000000e+00,  0.0000000000000000e+00,\n",
       "          0.0000000000000000e+00,  0.0000000000000000e+00,\n",
       "          0.0000000000000000e+00,  1.0000000000000000e+00]],\n",
       "       dtype=torch.float64)"
      ]
     },
     "execution_count": 11,
     "metadata": {},
     "output_type": "execute_result"
    }
   ],
   "source": [
    "# Tao Jacobian\n",
    "drift_tao = tao.matrix(0,1)\n",
    "mat_tao = torch.tensor(drift_tao['mat6'], **tkwargs)\n",
    "mat_tao"
   ]
  },
  {
   "cell_type": "code",
   "execution_count": 12,
   "id": "4707f2f9-3e23-4497-9dda-78205b54965f",
   "metadata": {},
   "outputs": [
    {
     "data": {
      "text/plain": [
       "True"
      ]
     },
     "execution_count": 12,
     "metadata": {},
     "output_type": "execute_result"
    }
   ],
   "source": [
    "# is it close to Tao result?\n",
    "torch.allclose(mat_py, mat_tao)"
   ]
  },
  {
   "cell_type": "markdown",
   "id": "c3f3188a-39d8-4d68-bb0e-131a8dbb22a6",
   "metadata": {
    "tags": []
   },
   "source": [
    "# Quadrupole tests"
   ]
  },
  {
   "cell_type": "code",
   "execution_count": 13,
   "id": "5dcd7b1a-ba3f-4b45-a5e6-455650fd6598",
   "metadata": {
    "tags": []
   },
   "outputs": [
    {
     "data": {
      "text/plain": [
       "Quadrupole(L=tensor(1.0000000000000001e-01, dtype=torch.float64), K1=tensor(0., dtype=torch.float64), NUM_STEPS=1)"
      ]
     },
     "execution_count": 13,
     "metadata": {},
     "output_type": "execute_result"
    }
   ],
   "source": [
    "# Create quad\n",
    "L = 0.1 #Length in m\n",
    "K1 = 0 #Quad focusing strength. Positive is focusing in x\n",
    "NUM_STEPS = 1 #number of divisions for tracking. 1 is bmad default when there are no other multipoles\n",
    "q1 = Quadrupole(torch.tensor(L, **tkwargs), torch.tensor(K1, **tkwargs), NUM_STEPS)\n",
    "q1"
   ]
  },
  {
   "cell_type": "markdown",
   "id": "b73fdb87-f4bd-4b42-8ad9-6eb54030ad99",
   "metadata": {
    "tags": []
   },
   "source": [
    "## Quadrupole one particle test"
   ]
  },
  {
   "cell_type": "code",
   "execution_count": 14,
   "id": "7ef8b038-c06f-4474-b98b-79592da924f0",
   "metadata": {},
   "outputs": [
    {
     "data": {
      "text/plain": [
       "tensor([2.0000000000000000e-03, 3.0000000000000001e-03, -3.0000000000000001e-03,\n",
       "        -1.0000000000000000e-03, 2.0000000000000000e-03, -2.0000000000000000e-03],\n",
       "       dtype=torch.float64, requires_grad=True)"
      ]
     },
     "execution_count": 14,
     "metadata": {},
     "output_type": "execute_result"
    }
   ],
   "source": [
    "# Incoming particle\n",
    "s = 0.0 #initial s\n",
    "p0c = 4.0E+07 #Reference particle momentum in eV\n",
    "mc2 = 1*m_e # electron mass in eV\n",
    "ts = torch.tensor(s, **tkwargs)\n",
    "tp0c = torch.tensor(p0c, **tkwargs)\n",
    "tmc2 = torch.tensor(mc2, **tkwargs) \n",
    "pvec1 = [2e-3,3e-3,-3e-3,-1e-3,2e-3,-2e-3] \n",
    "tvec1 = torch.tensor(pvec1, requires_grad=True, **tkwargs)\n",
    "tvec1"
   ]
  },
  {
   "cell_type": "code",
   "execution_count": 15,
   "id": "0d16dea9-7c66-4c92-bd7e-b0bca1097b8f",
   "metadata": {},
   "outputs": [
    {
     "data": {
      "text/plain": [
       "tensor([2.3006012024048097e-03, 3.0000000000000001e-03, -3.1002004008016033e-03,\n",
       "        -1.0000000000000000e-03, 1.9994652611700723e-03, -2.0000000000000000e-03],\n",
       "       dtype=torch.float64)"
      ]
     },
     "execution_count": 15,
     "metadata": {},
     "output_type": "execute_result"
    }
   ],
   "source": [
    "# create track_a_quadrupole_torch\n",
    "track_a_quadrupole_torch = make_track_a_quadrupole(torch)\n",
    "# Outgoing particle\n",
    "p_out = track_a_quadrupole_torch(Particle(*tvec1,ts, tp0c, tmc2), q1)\n",
    "x_py = torch.hstack(p_out[:6]).detach()\n",
    "x_py"
   ]
  },
  {
   "cell_type": "code",
   "execution_count": 16,
   "id": "7670ad81-5961-41bc-8719-1e23e97fb9a0",
   "metadata": {},
   "outputs": [],
   "source": [
    "# Bmad lattice to compare\n",
    "tao = Tao('-lat test_quad.bmad -noplot')\n",
    "tao.cmd('set particle_start x='+str(pvec1[0]))\n",
    "tao.cmd('set particle_start px='+str(pvec1[1]))\n",
    "tao.cmd('set particle_start y='+str(pvec1[2]))\n",
    "tao.cmd('set particle_start py='+str(pvec1[3]))\n",
    "tao.cmd('set particle_start z='+str(pvec1[4]))\n",
    "tao.cmd('set particle_start pz='+str(pvec1[5]))\n",
    "orbit_out = tao.orbit_at_s(ele=1)"
   ]
  },
  {
   "cell_type": "code",
   "execution_count": 17,
   "id": "82aa9e17-97ec-4556-93d1-2f54163d7f35",
   "metadata": {},
   "outputs": [
    {
     "data": {
      "text/plain": [
       "tensor([2.3006012024048101e-03, 3.0000000000000001e-03, -3.1002004008015998e-03,\n",
       "        -1.0000000000000000e-03, 1.9994652611700701e-03, -2.0000000000000000e-03],\n",
       "       dtype=torch.float64)"
      ]
     },
     "execution_count": 17,
     "metadata": {},
     "output_type": "execute_result"
    }
   ],
   "source": [
    "# Bmad outgoing particle\n",
    "x_tao = torch.tensor([orbit_out['x'],orbit_out['px'],orbit_out['y'],orbit_out['py'],orbit_out['z'],orbit_out['pz']],**tkwargs)\n",
    "x_tao"
   ]
  },
  {
   "cell_type": "code",
   "execution_count": 18,
   "id": "0174f8be-14cc-4aab-8b10-cecb0f044eb3",
   "metadata": {},
   "outputs": [
    {
     "data": {
      "text/plain": [
       "True"
      ]
     },
     "execution_count": 18,
     "metadata": {},
     "output_type": "execute_result"
    }
   ],
   "source": [
    "# close to Tao result?\n",
    "torch.allclose(x_py, x_tao)"
   ]
  },
  {
   "cell_type": "markdown",
   "id": "18d8ab23-f846-44e9-88c9-987b2267f9a1",
   "metadata": {
    "tags": []
   },
   "source": [
    "## Quadrupole Jacobian test"
   ]
  },
  {
   "cell_type": "code",
   "execution_count": 19,
   "id": "ea343dea-8c1f-4ce8-8d5c-3aa0f89d9812",
   "metadata": {},
   "outputs": [],
   "source": [
    "f_quadrupole = lambda x: track_a_quadrupole_torch(Particle(*x,ts, tp0c, tmc2), q1)[:6]\n",
    "J = jacobian(f_quadrupole, tvec1)"
   ]
  },
  {
   "cell_type": "code",
   "execution_count": 20,
   "id": "f0f45bf6-e8a9-469d-9883-76e85edb777b",
   "metadata": {},
   "outputs": [
    {
     "data": {
      "text/plain": [
       "tensor([[ 1.0000000000000000e+00,  1.0020040080160321e-01,\n",
       "          0.0000000000000000e+00,  0.0000000000000000e+00,\n",
       "          0.0000000000000000e+00, -3.0120360962405777e-04],\n",
       "        [-0.0000000000000000e+00,  1.0000000000000000e+00,\n",
       "          0.0000000000000000e+00,  0.0000000000000000e+00,\n",
       "          0.0000000000000000e+00,  0.0000000000000000e+00],\n",
       "        [ 0.0000000000000000e+00,  0.0000000000000000e+00,\n",
       "          1.0000000000000000e+00,  1.0020040080160321e-01,\n",
       "          0.0000000000000000e+00,  1.0040120320801925e-04],\n",
       "        [ 0.0000000000000000e+00,  0.0000000000000000e+00,\n",
       "          0.0000000000000000e+00,  1.0000000000000000e+00,\n",
       "          0.0000000000000000e+00,  0.0000000000000000e+00],\n",
       "        [ 0.0000000000000000e+00, -3.0120360962405777e-04,\n",
       "          0.0000000000000000e+00,  1.0040120320801925e-04,\n",
       "          1.0000000000000000e+00,  1.7421636015204266e-05],\n",
       "        [ 0.0000000000000000e+00,  0.0000000000000000e+00,\n",
       "          0.0000000000000000e+00,  0.0000000000000000e+00,\n",
       "          0.0000000000000000e+00,  1.0000000000000000e+00]],\n",
       "       dtype=torch.float64)"
      ]
     },
     "execution_count": 20,
     "metadata": {},
     "output_type": "execute_result"
    }
   ],
   "source": [
    "# Jacobian matrix\n",
    "mat_py = torch.vstack(J)\n",
    "mat_py"
   ]
  },
  {
   "cell_type": "code",
   "execution_count": 21,
   "id": "9e6cd8cc-4f9d-4072-a48b-b27961ad5762",
   "metadata": {},
   "outputs": [
    {
     "data": {
      "text/plain": [
       "tensor([[ 1.0000000000000000e+00,  1.0020040080160300e-01,\n",
       "          0.0000000000000000e+00,  0.0000000000000000e+00,\n",
       "          0.0000000000000000e+00, -3.0120360962405799e-04],\n",
       "        [ 0.0000000000000000e+00,  1.0000000000000000e+00,\n",
       "          0.0000000000000000e+00,  0.0000000000000000e+00,\n",
       "          0.0000000000000000e+00,  0.0000000000000000e+00],\n",
       "        [ 0.0000000000000000e+00,  0.0000000000000000e+00,\n",
       "          1.0000000000000000e+00,  1.0020040080160300e-01,\n",
       "          0.0000000000000000e+00,  1.0040120320801900e-04],\n",
       "        [ 0.0000000000000000e+00,  0.0000000000000000e+00,\n",
       "          0.0000000000000000e+00,  1.0000000000000000e+00,\n",
       "          0.0000000000000000e+00,  0.0000000000000000e+00],\n",
       "        [ 0.0000000000000000e+00, -3.0120360962405799e-04,\n",
       "          0.0000000000000000e+00,  1.0040120320801900e-04,\n",
       "          1.0000000000000000e+00,  1.7421636015204300e-05],\n",
       "        [ 0.0000000000000000e+00,  0.0000000000000000e+00,\n",
       "          0.0000000000000000e+00,  0.0000000000000000e+00,\n",
       "          0.0000000000000000e+00,  1.0000000000000000e+00]],\n",
       "       dtype=torch.float64)"
      ]
     },
     "execution_count": 21,
     "metadata": {},
     "output_type": "execute_result"
    }
   ],
   "source": [
    "# Bmad Jacobian\n",
    "quad_tao = tao.matrix(0,1)\n",
    "mat_tao = torch.tensor(quad_tao['mat6'], **tkwargs)\n",
    "mat_tao"
   ]
  },
  {
   "cell_type": "code",
   "execution_count": 22,
   "id": "daea008b-7368-4f75-9fe0-fb3de156d68f",
   "metadata": {},
   "outputs": [
    {
     "data": {
      "text/plain": [
       "True"
      ]
     },
     "execution_count": 22,
     "metadata": {},
     "output_type": "execute_result"
    }
   ],
   "source": [
    "# close to Tao result?\n",
    "torch.allclose(mat_py, mat_tao)"
   ]
  },
  {
   "cell_type": "markdown",
   "id": "491331ff-7285-470a-85fe-b795668e5d13",
   "metadata": {
    "tags": [],
    "toc-hr-collapsed": true
   },
   "source": [
    "# Lattice tracking"
   ]
  },
  {
   "cell_type": "markdown",
   "id": "0c8ca256-7abd-466c-976a-9c754ac22571",
   "metadata": {
    "tags": []
   },
   "source": [
    "## Lattice one particle test"
   ]
  },
  {
   "cell_type": "code",
   "execution_count": 23,
   "id": "e382de98-ca91-4511-9ff0-190dba00655b",
   "metadata": {
    "tags": []
   },
   "outputs": [],
   "source": [
    "# Create drift\n",
    "L_d = 1.0 # Drift length in m\n",
    "d1 = Drift(torch.tensor(L_d, **tkwargs))\n",
    "d1\n",
    "# Create quad\n",
    "L_q = 0.1  # quad length in m\n",
    "K1 = 10  # Quad focusing strength. Positive is focusing in x\n",
    "NUM_STEPS = 1  # number of divisions for tracking. 1 is bmad default when there are no other multipoles\n",
    "q1 = Quadrupole(torch.tensor(L_q, **tkwargs), torch.tensor(K1, **tkwargs), NUM_STEPS)"
   ]
  },
  {
   "cell_type": "code",
   "execution_count": 24,
   "id": "a9fad1a8-13d6-45ce-b38a-3c9fd27e39c6",
   "metadata": {},
   "outputs": [
    {
     "data": {
      "text/plain": [
       "Particle(x=tensor(2.0000000000000000e-03, dtype=torch.float64, grad_fn=<UnbindBackward0>), px=tensor(3.0000000000000001e-03, dtype=torch.float64, grad_fn=<UnbindBackward0>), y=tensor(-3.0000000000000001e-03, dtype=torch.float64, grad_fn=<UnbindBackward0>), py=tensor(-1.0000000000000000e-03, dtype=torch.float64, grad_fn=<UnbindBackward0>), z=tensor(2.0000000000000000e-03, dtype=torch.float64, grad_fn=<UnbindBackward0>), pz=tensor(-2.0000000000000000e-03, dtype=torch.float64, grad_fn=<UnbindBackward0>), s=tensor(0., dtype=torch.float64), p0c=tensor(4.0000000000000000e+07, dtype=torch.float64), mc2=tensor( 5.1099895000000001e+05, dtype=torch.float64))"
      ]
     },
     "execution_count": 24,
     "metadata": {},
     "output_type": "execute_result"
    }
   ],
   "source": [
    "# Incoming particle\n",
    "s = 0.0 #initial s\n",
    "p0c = 4.0E+07  # Reference particle momentum in eV\n",
    "mc2 = 1*m_e  # electron mass in eV\n",
    "ts = torch.tensor(s, **tkwargs)\n",
    "tp0c = torch.tensor(p0c, **tkwargs)\n",
    "tmc2 = torch.tensor(mc2, **tkwargs)\n",
    "pvec1 = [2e-3,3e-3,-3e-3,-1e-3,2e-3,-2e-3] \n",
    "tvec1 = torch.tensor(pvec1, requires_grad=True, **tkwargs)\n",
    "p_in = Particle(*tvec1, ts, tp0c, tmc2)\n",
    "p_in"
   ]
  },
  {
   "cell_type": "code",
   "execution_count": 25,
   "id": "5c8e5ad9-3309-4323-bfeb-a57209658750",
   "metadata": {},
   "outputs": [
    {
     "data": {
      "text/plain": [
       "tensor([-2.2819679612099907e-03, -4.8963303496563082e-03, -2.5439131659086591e-02,\n",
       "        -1.4972829678474660e-02, 1.8473246819740532e-03, -2.0000000000000000e-03],\n",
       "       dtype=torch.float64)"
      ]
     },
     "execution_count": 25,
     "metadata": {},
     "output_type": "execute_result"
    }
   ],
   "source": [
    "# Lattice example\n",
    "lattice = [d1, q1, d1, q1, d1]  # lattice is a list of elements\n",
    "# List of particle coordinates after each element:\n",
    "x_list = [torch.hstack(coords[:6]).detach() for coords in track_a_lattice(p_in, lattice)]\n",
    "# Outgoing particle after complete lattice:\n",
    "x_py = torch.hstack(track_a_lattice(p_in, lattice)[-1][:6]).detach()\n",
    "# alternative: x_list[-1]\n",
    "x_py"
   ]
  },
  {
   "cell_type": "code",
   "execution_count": 26,
   "id": "9723f930-5c64-4fdc-a94c-df2a816bfe0a",
   "metadata": {},
   "outputs": [],
   "source": [
    "# Bmad lattice to compare\n",
    "tao = Tao('-lat test_drift_quad.bmad -noplot')\n",
    "tao.cmd('set particle_start x='+str(pvec1[0]))\n",
    "tao.cmd('set particle_start px='+str(pvec1[1]))\n",
    "tao.cmd('set particle_start y='+str(pvec1[2]))\n",
    "tao.cmd('set particle_start py='+str(pvec1[3]))\n",
    "tao.cmd('set particle_start z='+str(pvec1[4]))\n",
    "tao.cmd('set particle_start pz='+str(pvec1[5]))\n",
    "orbit_out = tao.orbit_at_s(ele=5)"
   ]
  },
  {
   "cell_type": "code",
   "execution_count": 27,
   "id": "d3911c94-0464-4b62-ad7a-55e197ed22be",
   "metadata": {},
   "outputs": [
    {
     "data": {
      "text/plain": [
       "tensor([-2.2819679612099898e-03, -4.8963303496563099e-03, -2.5439131659086602e-02,\n",
       "        -1.4972829678474700e-02, 1.8473246819741701e-03, -2.0000000000000000e-03],\n",
       "       dtype=torch.float64)"
      ]
     },
     "execution_count": 27,
     "metadata": {},
     "output_type": "execute_result"
    }
   ],
   "source": [
    "# Bmad outgoing particle\n",
    "x_tao = torch.tensor([orbit_out['x'],orbit_out['px'],orbit_out['y'],orbit_out['py'],orbit_out['z'],orbit_out['pz']],**tkwargs)\n",
    "x_tao"
   ]
  },
  {
   "cell_type": "code",
   "execution_count": 28,
   "id": "09dfa314-fd81-443b-9084-970a0ee22e1f",
   "metadata": {},
   "outputs": [
    {
     "data": {
      "text/plain": [
       "True"
      ]
     },
     "execution_count": 28,
     "metadata": {},
     "output_type": "execute_result"
    }
   ],
   "source": [
    "# close to Tao result?\n",
    "torch.allclose(x_py, x_tao)"
   ]
  },
  {
   "cell_type": "markdown",
   "id": "f9ba321b-16ba-4616-b64a-86a0fab6df3f",
   "metadata": {
    "tags": []
   },
   "source": [
    "## Lattice Jacobian test"
   ]
  },
  {
   "cell_type": "code",
   "execution_count": 29,
   "id": "dc9d30da-be29-4072-a9fa-b982030531de",
   "metadata": {
    "tags": []
   },
   "outputs": [],
   "source": [
    "f_driftquadrupole = lambda x: track_a_lattice(Particle(*x, ts, tp0c, tmc2), lattice)[-1][:6]\n",
    "J = jacobian(f_driftquadrupole, tvec1)"
   ]
  },
  {
   "cell_type": "code",
   "execution_count": 30,
   "id": "a15024cb-8d00-434c-9642-3cf3105db844",
   "metadata": {},
   "outputs": [
    {
     "data": {
      "text/plain": [
       "tensor([[-1.0322023903174575e+00, -7.2569681151011811e-02,\n",
       "          2.3367174796365382e-04,  4.0490038958197793e-04,\n",
       "          0.0000000000000000e+00,  8.2182839451539688e-03],\n",
       "        [-9.0005153171126384e-01, -1.0320809782928480e+00,\n",
       "         -1.0670671153299335e-05, -1.9000372936436179e-05,\n",
       "          0.0000000000000000e+00,  5.5475642315005796e-04],\n",
       "        [-8.8127328798467028e-05, -9.3392943713694148e-05,\n",
       "          5.4572583903073202e+00,  9.0710195783967222e+00,\n",
       "          0.0000000000000000e+00,  3.3612658955446149e-02],\n",
       "        [-1.0670671153299331e-05, -9.9546185436680993e-06,\n",
       "          3.1722681310803358e+00,  5.4561657512786770e+00,\n",
       "          0.0000000000000000e+00,  9.3914704183099551e-03],\n",
       "        [-6.8237891712833116e-03, -8.4411335413884098e-03,\n",
       "          5.5376468742080333e-02,  9.8205645796140759e-02,\n",
       "          1.0000000000000000e+00,  9.9199631964399224e-04],\n",
       "        [ 0.0000000000000000e+00,  0.0000000000000000e+00,\n",
       "          0.0000000000000000e+00,  0.0000000000000000e+00,\n",
       "          0.0000000000000000e+00,  1.0000000000000000e+00]],\n",
       "       dtype=torch.float64)"
      ]
     },
     "execution_count": 30,
     "metadata": {},
     "output_type": "execute_result"
    }
   ],
   "source": [
    "# Jacobian matrix\n",
    "mat_py = torch.vstack(J)\n",
    "mat_py"
   ]
  },
  {
   "cell_type": "code",
   "execution_count": 31,
   "id": "3649facd-33ea-46e7-9a4c-b561dd5e5388",
   "metadata": {},
   "outputs": [
    {
     "data": {
      "text/plain": [
       "tensor([[-1.0322023903174600e+00, -7.2569681151011395e-02,\n",
       "          2.3367174796365400e-04,  4.0490038958197798e-04,\n",
       "          0.0000000000000000e+00,  8.2182839451539601e-03],\n",
       "        [-9.0005153171126395e-01, -1.0320809782928499e+00,\n",
       "         -1.0670671153299301e-05, -1.9000372936436199e-05,\n",
       "          0.0000000000000000e+00,  5.5475642315005796e-04],\n",
       "        [-8.8127328798467001e-05, -9.3392943713694094e-05,\n",
       "          5.4572583903073202e+00,  9.0710195783967205e+00,\n",
       "          0.0000000000000000e+00,  3.3612658955446101e-02],\n",
       "        [-1.0670671153299301e-05, -9.9546185436680993e-06,\n",
       "          3.1722681310803398e+00,  5.4561657512786796e+00,\n",
       "          0.0000000000000000e+00,  9.3914704183099499e-03],\n",
       "        [-6.8237891712833098e-03, -8.4411335413884098e-03,\n",
       "          5.5376468742080298e-02,  9.8205645796140703e-02,\n",
       "          1.0000000000000000e+00,  9.9199631964514605e-04],\n",
       "        [ 0.0000000000000000e+00,  0.0000000000000000e+00,\n",
       "          0.0000000000000000e+00,  0.0000000000000000e+00,\n",
       "          0.0000000000000000e+00,  1.0000000000000000e+00]],\n",
       "       dtype=torch.float64)"
      ]
     },
     "execution_count": 31,
     "metadata": {},
     "output_type": "execute_result"
    }
   ],
   "source": [
    "# Bmad Jacobian\n",
    "lat_tao = tao.matrix(0,5)\n",
    "mat_tao = torch.tensor(lat_tao['mat6'], **tkwargs)\n",
    "mat_tao"
   ]
  },
  {
   "cell_type": "code",
   "execution_count": 32,
   "id": "35e3965b-95d8-4f25-87f2-675435b7fa49",
   "metadata": {},
   "outputs": [
    {
     "data": {
      "text/plain": [
       "True"
      ]
     },
     "execution_count": 32,
     "metadata": {},
     "output_type": "execute_result"
    }
   ],
   "source": [
    "# close to Tao result?\n",
    "torch.allclose(mat_py, mat_tao)"
   ]
  },
  {
   "cell_type": "markdown",
   "id": "abd7f307-4e0e-4530-99ec-3ca70109d3f0",
   "metadata": {
    "tags": []
   },
   "source": [
    "## Multi-particle propagation through lattice"
   ]
  },
  {
   "cell_type": "code",
   "execution_count": 33,
   "id": "6429e104-311c-444b-98dd-5075a05e9bdd",
   "metadata": {
    "tags": []
   },
   "outputs": [],
   "source": [
    "# Particle bunch with Gaussian distribution\n",
    "sample_size = 1000\n",
    "mean = torch.zeros(6, **tkwargs)\n",
    "cov = torch.diag(torch.tensor([1e-6, 2e-6, 1e-6, 2e-6, 1e-6, 2e-6],**tkwargs))\n",
    "dist = torch.distributions.multivariate_normal.MultivariateNormal(mean, cov)\n",
    "sample = dist.sample(torch.Size([sample_size]))\n",
    "p_in = Particle(*sample.T, ts, tp0c, tmc2)"
   ]
  },
  {
   "cell_type": "code",
   "execution_count": 34,
   "id": "c89db535-74b8-4afd-82b6-f70e52f98723",
   "metadata": {},
   "outputs": [],
   "source": [
    "p_out = track_a_lattice(p_in, lattice)"
   ]
  },
  {
   "cell_type": "code",
   "execution_count": 35,
   "id": "aca6346f-c4bf-4e62-9274-76dcf6a05b40",
   "metadata": {},
   "outputs": [
    {
     "data": {
      "text/plain": [
       "(tensor(1.0042550918948003e-03, dtype=torch.float64),\n",
       " tensor(1.3430467338646133e-02, dtype=torch.float64))"
      ]
     },
     "execution_count": 35,
     "metadata": {},
     "output_type": "execute_result"
    }
   ],
   "source": [
    "# some beam properties up and downstream\n",
    "torch.std(p_out[0].y),torch.std(p_out[-1].y)"
   ]
  },
  {
   "cell_type": "markdown",
   "id": "a35d4b34-6c23-48d8-af4c-7daad3055b20",
   "metadata": {
    "tags": []
   },
   "source": [
    "## Stub element test"
   ]
  },
  {
   "cell_type": "code",
   "execution_count": 36,
   "id": "62fc1a71-37f7-4651-8b4b-2168581ebf0d",
   "metadata": {},
   "outputs": [
    {
     "data": {
      "text/plain": [
       "[Quadrupole(L=tensor(1.0000000000000000e-02, dtype=torch.float64), K1=tensor(1.0000000000000000e+01, dtype=torch.float64), NUM_STEPS=1),\n",
       " Quadrupole(L=tensor(1.0000000000000000e-02, dtype=torch.float64), K1=tensor(1.0000000000000000e+01, dtype=torch.float64), NUM_STEPS=1),\n",
       " Quadrupole(L=tensor(1.0000000000000000e-02, dtype=torch.float64), K1=tensor(1.0000000000000000e+01, dtype=torch.float64), NUM_STEPS=1),\n",
       " Quadrupole(L=tensor(1.0000000000000000e-02, dtype=torch.float64), K1=tensor(1.0000000000000000e+01, dtype=torch.float64), NUM_STEPS=1),\n",
       " Quadrupole(L=tensor(1.0000000000000000e-02, dtype=torch.float64), K1=tensor(1.0000000000000000e+01, dtype=torch.float64), NUM_STEPS=1),\n",
       " Quadrupole(L=tensor(1.0000000000000000e-02, dtype=torch.float64), K1=tensor(1.0000000000000000e+01, dtype=torch.float64), NUM_STEPS=1),\n",
       " Quadrupole(L=tensor(1.0000000000000000e-02, dtype=torch.float64), K1=tensor(1.0000000000000000e+01, dtype=torch.float64), NUM_STEPS=1),\n",
       " Quadrupole(L=tensor(1.0000000000000000e-02, dtype=torch.float64), K1=tensor(1.0000000000000000e+01, dtype=torch.float64), NUM_STEPS=1),\n",
       " Quadrupole(L=tensor(1.0000000000000000e-02, dtype=torch.float64), K1=tensor(1.0000000000000000e+01, dtype=torch.float64), NUM_STEPS=1),\n",
       " Quadrupole(L=tensor(1.0000000000000000e-02, dtype=torch.float64), K1=tensor(1.0000000000000000e+01, dtype=torch.float64), NUM_STEPS=1)]"
      ]
     },
     "execution_count": 36,
     "metadata": {},
     "output_type": "execute_result"
    }
   ],
   "source": [
    "# divide a quad into 10 parts\n",
    "divided_quad = stub_element(q1, 10)\n",
    "divided_quad"
   ]
  },
  {
   "cell_type": "markdown",
   "id": "08840928-57b7-49f3-8dcc-7cf4bb94d265",
   "metadata": {},
   "source": [
    "## Plotting using stub_element"
   ]
  },
  {
   "cell_type": "code",
   "execution_count": 37,
   "id": "b4421345-df0c-4db4-817c-fc2954492414",
   "metadata": {},
   "outputs": [],
   "source": [
    "# make a quadrupole triplet\n",
    "L_d = 1.5  # Drift length in m\n",
    "d1 = Drift(torch.tensor(L_d, **tkwargs)) # drift\n",
    "L_q = 0.1  # Quadrupole length in m\n",
    "K1 = 10  # Quadrupole strengths\n",
    "NUM_STEPS = 1\n",
    "q1 = Quadrupole(torch.tensor(L_q,**tkwargs), torch.tensor(K1, **tkwargs), NUM_STEPS)  # x-focusing\n",
    "q2 = Quadrupole(torch.tensor(L_q,**tkwargs), torch.tensor(-K1, **tkwargs), NUM_STEPS)  # y-focusing\n",
    "lattice = [d1, q1, d1, q2, d1, q1, d1]\n",
    "\n",
    "# stub each element into n equal parts each\n",
    "n=50\n",
    "stubbed_lattice = stub_lattice(lattice, n)"
   ]
  },
  {
   "cell_type": "code",
   "execution_count": 38,
   "id": "ded144f0-a02a-4bd2-8bb3-1878929eab80",
   "metadata": {},
   "outputs": [
    {
     "data": {
      "text/plain": [
       "<matplotlib.legend.Legend at 0x7f96b064ca00>"
      ]
     },
     "execution_count": 38,
     "metadata": {},
     "output_type": "execute_result"
    },
    {
     "data": {
      "image/png": "[encoded data removed]",
      "text/plain": [
       "<Figure size 432x288 with 1 Axes>"
      ]
     },
     "metadata": {
      "needs_background": "light"
     },
     "output_type": "display_data"
    }
   ],
   "source": [
    "all_p = track_a_lattice(p_in, stubbed_lattice)\n",
    "stdx = np.array([torch.std(par.x).item() for par in all_p])\n",
    "stdy = np.array([torch.std(par.y).item() for par in all_p])\n",
    "s = np.array([par.s.item() for par in all_p])\n",
    "plt.plot(s, stdx*1000, label=r'$\\sigma_x$')\n",
    "plt.plot(s, stdy*1000, label=r'$\\sigma_y$')\n",
    "plt.xlabel(r'$s$ (m)')\n",
    "plt.ylabel(r'$\\sigma_{x,y}$ (mm)')\n",
    "plt.legend()"
   ]
  },
  {
   "cell_type": "markdown",
   "id": "eb16025c-6d9c-4fa0-bb5b-32684c107898",
   "metadata": {
    "tags": []
   },
   "source": [
    "# Hessian Matrix example"
   ]
  },
  {
   "cell_type": "code",
   "execution_count": 39,
   "id": "a2d0abb8-7d84-464a-a1c1-a687e1fe62d8",
   "metadata": {},
   "outputs": [],
   "source": [
    "# Particle bunch with Gaussian distribution\n",
    "sample_size = 1000\n",
    "mean = torch.zeros(6, **tkwargs)\n",
    "cov = torch.diag(torch.tensor([1e-6, 2e-6, 1e-6, 2e-6, 1e-6, 2e-6],**tkwargs))\n",
    "dist = torch.distributions.multivariate_normal.MultivariateNormal(mean, cov)\n",
    "sample = dist.sample(torch.Size([sample_size]))\n",
    "p_in = Particle(*sample.T, ts, tp0c, tmc2)\n",
    "\n",
    "L_d = 1.00 # Drift length\n",
    "L_q = 0.1 # Quad length \n",
    "drift = Drift(torch.tensor(L_d, **tkwargs))\n",
    "\n",
    "def sigmax_end(k1s):\n",
    "    \"\"\"returns x beamsize after lattice composed by len(k1s)+1 \n",
    "    drifts with len(k1s) quadrupoles in between.\n",
    "    \"\"\"\n",
    "    lattice = [drift]\n",
    "    \n",
    "    for k1 in k1s:\n",
    "        lattice.append(Quadrupole(torch.tensor(L_q, **tkwargs), k1, NUM_STEPS))\n",
    "        lattice.append(drift)\n",
    "\n",
    "    p_out = track_a_lattice(p_in, lattice)[-1]\n",
    "    return torch.std(p_out.x)\n",
    "\n",
    "#k1s = torch.tensor([10,-10,10,-10,10,-10,10,-10,10,-10], **tkwargs)\n",
    "k1s = torch.zeros(10, **tkwargs)"
   ]
  },
  {
   "cell_type": "code",
   "execution_count": 40,
   "id": "09322973-50ab-454e-a711-75a87572f6c4",
   "metadata": {},
   "outputs": [
    {
     "name": "stdout",
     "output_type": "stream",
     "text": [
      "CPU times: user 397 ms, sys: 136 ms, total: 533 ms\n",
      "Wall time: 327 ms\n"
     ]
    },
    {
     "data": {
      "text/plain": [
       "tensor([[5.2753734311680148e-05, 1.9624709145689819e-04, 3.1996366216434672e-04,\n",
       "         4.0682536471881183e-04, 4.5683219912029361e-04, 4.6998416536879180e-04,\n",
       "         4.4628126346430666e-04, 3.8572349340683804e-04, 2.8831085519638588e-04,\n",
       "         1.5404334883295046e-04],\n",
       "        [1.9624709145689832e-04, 3.4566375012848006e-05, 3.0593557006380222e-04,\n",
       "         5.3204272215211657e-04, 6.8150056031657702e-04, 7.5430908455718384e-04,\n",
       "         7.5046829487393669e-04, 6.6997819126683581e-04, 5.1283877373588108e-04,\n",
       "         2.7905004228107256e-04],\n",
       "        [3.1996366216434672e-04, 3.0593557006380195e-04, 2.1553123616272290e-05,\n",
       "         3.8423981813437191e-04, 6.7260146236834814e-04, 8.4454076541211559e-04,\n",
       "         9.0005772726567390e-04, 8.3915234792902361e-04, 6.6182462740216439e-04,\n",
       "         3.6807456568509618e-04],\n",
       "        [4.0682536471881194e-04, 5.3204272215211625e-04, 3.8423981813437213e-04,\n",
       "         1.2624794215408398e-05, 4.3013490527560837e-04, 7.4067920793358859e-04,\n",
       "         8.9504956063952013e-04, 8.9324596339340290e-04, 7.3526841619523666e-04,\n",
       "         4.2111691904502181e-04],\n",
       "        [4.5683219912029361e-04, 6.8150056031657680e-04, 6.7260146236834846e-04,\n",
       "         4.3013490527560837e-04, 6.8207119308012276e-06, 4.4272441212160212e-04,\n",
       "         7.3544379499547409e-04, 8.3225903765997249e-04, 7.3317014011509759e-04,\n",
       "         4.3817710236084906e-04],\n",
       "        [4.6998416536879180e-04, 7.5430908455718329e-04, 8.4454076541211559e-04,\n",
       "         7.4067920793358826e-04, 4.4272441212160168e-04, 3.3087129100875551e-06,\n",
       "         4.2124043033353576e-04, 6.5619157072873281e-04, 6.5552979916174683e-04,\n",
       "         4.1925511563257805e-04],\n",
       "        [4.4628126346430666e-04, 7.5046829487393637e-04, 9.0005772726567423e-04,\n",
       "         8.9504956063952013e-04, 7.3544379499547409e-04, 4.2124043033353598e-04,\n",
       "         1.3851443279968873e-06, 3.6504356259968424e-04, 5.0234739333518516e-04,\n",
       "         3.6435095886020905e-04],\n",
       "        [3.8572349340683810e-04, 6.6997819126683560e-04, 8.3915234792902393e-04,\n",
       "         8.9324596339340290e-04, 8.3225903765997270e-04, 6.5619157072873313e-04,\n",
       "         3.6504356259968430e-04, 4.7486438634803851e-07, 2.7362292263541203e-04,\n",
       "         2.7346463204374168e-04],\n",
       "        [2.8831085519638594e-04, 5.1283877373588097e-04, 6.6182462740216449e-04,\n",
       "         7.3526841619523666e-04, 7.3317014011509748e-04, 6.5552979916174705e-04,\n",
       "         5.0234739333518516e-04, 2.7362292263541192e-04, 1.3124231405192339e-07,\n",
       "         1.4659613518317607e-04],\n",
       "        [1.5404334883295048e-04, 2.7905004228107250e-04, 3.6807456568509634e-04,\n",
       "         4.2111691904502181e-04, 4.3817710236084917e-04, 4.1925511563257827e-04,\n",
       "         3.6435095886020911e-04, 2.7346463204374174e-04, 1.4659613518317610e-04,\n",
       "         3.6158367111431525e-08]], dtype=torch.float64)"
      ]
     },
     "execution_count": 40,
     "metadata": {},
     "output_type": "execute_result"
    }
   ],
   "source": [
    "%%time\n",
    "hessian_py = hessian(sigmax_end,k1s)\n",
    "hessian_py"
   ]
  },
  {
   "cell_type": "code",
   "execution_count": 41,
   "id": "c720fe84-b5a2-4bcf-831c-caf194a12146",
   "metadata": {},
   "outputs": [
    {
     "data": {
      "text/plain": [
       "<matplotlib.colorbar.Colorbar at 0x7f96a80dbf40>"
      ]
     },
     "execution_count": 41,
     "metadata": {},
     "output_type": "execute_result"
    },
    {
     "data": {
      "image/png": "[encoded data removed]",
      "text/plain": [
       "<Figure size 432x288 with 2 Axes>"
      ]
     },
     "metadata": {
      "needs_background": "light"
     },
     "output_type": "display_data"
    }
   ],
   "source": [
    "plt.imshow(hessian_py.detach().numpy())\n",
    "plt.colorbar()"
   ]
  },
  {
   "cell_type": "code",
   "execution_count": 42,
   "id": "90145244-6aca-43ad-aed3-d444a8f11706",
   "metadata": {},
   "outputs": [],
   "source": [
    "p_in = Particle(*sample.detach().numpy().T, 0, p0c, mc2)\n",
    "\n",
    "L_d = 1.00 # Drift length\n",
    "L_q = 0.1 # Quad length \n",
    "drift = Drift(L_d)\n",
    "def sigmax_end2(k1s):\n",
    "    \"\"\"returns x beamsize after lattice composed by len(k1s)+1 \n",
    "    drifts with len(k1s) quadrupoles in between.\n",
    "    \"\"\"\n",
    "    lattice = [drift]\n",
    "    \n",
    "    for k1 in k1s:\n",
    "        lattice.append(Quadrupole(L_q, k1, 1))\n",
    "        lattice.append(drift)\n",
    "\n",
    "    p_out = track_a_lattice(p_in, lattice)[-1]\n",
    "    \n",
    "    return np.std(p_out.x)\n",
    "\n",
    "#k1s = np.array([10,-10,10,-10,10,-10,10,-10,10,-10])\n",
    "k1s = np.zeros(10)"
   ]
  },
  {
   "cell_type": "code",
   "execution_count": 43,
   "id": "ec5b71f2-cc0c-43d3-b40b-d77b89b75579",
   "metadata": {},
   "outputs": [
    {
     "name": "stdout",
     "output_type": "stream",
     "text": [
      "CPU times: user 7.1 s, sys: 617 µs, total: 7.1 s\n",
      "Wall time: 7.12 s\n"
     ]
    },
    {
     "data": {
      "text/plain": [
       "array([[5.8569722037534655e-05, 2.2027866980609218e-04,\n",
       "        3.4933997884668925e-04, 4.3976616649839343e-04,\n",
       "        4.9155723277464992e-04, 5.0471317766924493e-04,\n",
       "        4.7923400116955977e-04, 4.1511970329150693e-04,\n",
       "        3.1237028402782168e-04, 1.7098574338159775e-04],\n",
       "       [2.2027866980609218e-04, 4.5158323122568900e-05,\n",
       "        3.4241514405604589e-04, 5.7201712675425300e-04,\n",
       "        7.2320944451644421e-04, 7.9599209731350451e-04,\n",
       "        7.9036508516289433e-04, 7.0632840806020031e-04,\n",
       "        5.4388206600555886e-04, 3.0302605900238075e-04],\n",
       "       [3.4933997884668925e-04, 3.4241514405604589e-04,\n",
       "        3.5719334457024801e-05, 4.2958572766726251e-04,\n",
       "        7.1961236787082290e-04, 8.9147620736191821e-04,\n",
       "        9.4517724611574482e-04, 8.8071548413838825e-04,\n",
       "        6.9809092144150682e-04, 3.9730355800557355e-04],\n",
       "       [4.3976616649839343e-04, 5.7201712675425300e-04,\n",
       "        4.2958572766726251e-04, 2.9164114851333888e-05,\n",
       "        4.8076600287550358e-04, 7.9116550780497323e-04,\n",
       "        9.4367048403094225e-04, 9.3828093152748687e-04,\n",
       "        7.7499685032241298e-04, 4.5381824040421068e-04],\n",
       "       [4.9155723277464992e-04, 7.2320944451644421e-04,\n",
       "        7.1961236787082290e-04, 4.8076600287550358e-04,\n",
       "        2.4532469922955124e-05, 4.9505999864850911e-04,\n",
       "        7.8584479888598097e-04, 8.7902475022354459e-04,\n",
       "        7.7459985266123388e-04, 4.7257010619491989e-04],\n",
       "       [5.0471317766924493e-04, 7.9599209731350451e-04,\n",
       "        8.9147620736191821e-04, 7.9116550780497323e-04,\n",
       "        4.9505999864850911e-04, 2.0992652012584259e-05,\n",
       "        4.7170019071035829e-04, 7.0294694023239192e-04,\n",
       "        6.9689992845472430e-04, 4.5355915537587680e-04],\n",
       "       [4.7923400116955977e-04, 7.9036508516289433e-04,\n",
       "        9.4517724611574482e-04, 9.4367048403094225e-04,\n",
       "        7.8584479888598097e-04, 4.7170019071035829e-04,\n",
       "        1.7841360257402812e-05, 4.1004750154924769e-04,\n",
       "        5.4189707769984358e-04, 3.9678538794788338e-04],\n",
       "       [4.1511970329150693e-04, 7.0632840806020031e-04,\n",
       "        8.8071548413838825e-04, 9.3828093152748687e-04,\n",
       "        8.7902475022354459e-04, 7.0294694023239192e-04,\n",
       "        4.1004750154924769e-04, 1.4503740461744818e-05,\n",
       "        3.0959130040192031e-04, 3.0224880391028396e-04],\n",
       "       [3.1237028402782168e-04, 5.4388206600555886e-04,\n",
       "        6.9809092144150682e-04, 7.7499685032241298e-04,\n",
       "        7.7459985266123388e-04, 6.9689992845472430e-04,\n",
       "        5.4189707769984358e-04, 3.0959130040192031e-04,\n",
       "        1.0533385291934041e-05, 1.6994940326466195e-04],\n",
       "       [1.7098574338159775e-04, 3.0302605900238075e-04,\n",
       "        3.9730355800557355e-04, 4.5381824040421068e-04,\n",
       "        4.7257010619491989e-04, 4.5355915537587680e-04,\n",
       "        3.9678538794788338e-04, 3.0224880391028396e-04,\n",
       "        1.6994940326466195e-04, 5.6123341060180997e-06]])"
      ]
     },
     "execution_count": 43,
     "metadata": {},
     "output_type": "execute_result"
    }
   ],
   "source": [
    "%%time\n",
    "hessian_nd = nd.Hessian(sigmax_end2)(k1s)\n",
    "hessian_nd"
   ]
  },
  {
   "cell_type": "code",
   "execution_count": 44,
   "id": "9ffa33a1-b971-491b-a120-18c46b854892",
   "metadata": {},
   "outputs": [
    {
     "data": {
      "text/plain": [
       "<matplotlib.colorbar.Colorbar at 0x7f969d120d60>"
      ]
     },
     "execution_count": 44,
     "metadata": {},
     "output_type": "execute_result"
    },
    {
     "data": {
      "image/png": "[encoded data removed]",
      "text/plain": [
       "<Figure size 432x288 with 2 Axes>"
      ]
     },
     "metadata": {
      "needs_background": "light"
     },
     "output_type": "display_data"
    }
   ],
   "source": [
    "plt.imshow(hessian_nd)\n",
    "plt.colorbar()"
   ]
  },
  {
   "cell_type": "code",
   "execution_count": 45,
   "id": "8748858c-daa8-4408-9c3f-6e0a794130ae",
   "metadata": {},
   "outputs": [
    {
     "data": {
      "text/plain": [
       "False"
      ]
     },
     "execution_count": 45,
     "metadata": {},
     "output_type": "execute_result"
    }
   ],
   "source": [
    "np.allclose(hessian_nd, hessian_py.detach().numpy())"
   ]
  },
  {
   "cell_type": "code",
   "execution_count": 46,
   "id": "8191b91e-d26d-4528-bad0-e24b759094a4",
   "metadata": {},
   "outputs": [
    {
     "data": {
      "text/plain": [
       "<matplotlib.colorbar.Colorbar at 0x7f969d03b070>"
      ]
     },
     "execution_count": 46,
     "metadata": {},
     "output_type": "execute_result"
    },
    {
     "data": {
      "image/png": "[encoded data removed]",
      "text/plain": [
       "<Figure size 720x720 with 4 Axes>"
      ]
     },
     "metadata": {
      "needs_background": "light"
     },
     "output_type": "display_data"
    }
   ],
   "source": [
    "fig, axs = plt.subplots(2, figsize=(10,10))\n",
    "cm = axs[0].imshow(hessian_py.detach().numpy())\n",
    "fig.colorbar(cm,ax=axs[0])\n",
    "#ax.imshow(hessian_py.detach().numpy())\n",
    "#ax = axs[1]\n",
    "#ax.imshow(1-hessian_nd)\n",
    "cm = axs[1].imshow(hessian_nd)\n",
    "fig.colorbar(cm,ax=axs[1])"
   ]
  },
  {
   "cell_type": "code",
   "execution_count": 47,
   "id": "64679611-403a-4dd4-9cd6-b2987a439ed4",
   "metadata": {},
   "outputs": [
    {
     "data": {
      "text/plain": [
       "(154.21536381115374, 0.049529905161964406)"
      ]
     },
     "execution_count": 47,
     "metadata": {},
     "output_type": "execute_result"
    }
   ],
   "source": [
    "dif = np.abs((hessian_py.detach().numpy()-hessian_nd)/hessian_py.detach().numpy())\n",
    "np.max(dif),np.min(dif)"
   ]
  },
  {
   "cell_type": "markdown",
   "id": "a5a33da7-8ba3-4051-8ab9-8b150ea409d6",
   "metadata": {
    "tags": []
   },
   "source": [
    "# Optimization examples"
   ]
  },
  {
   "cell_type": "code",
   "execution_count": 48,
   "id": "88753105-000b-4871-96da-0691d925305e",
   "metadata": {
    "tags": []
   },
   "outputs": [],
   "source": [
    "# Initial beam distribution\n",
    "sample_size = 1000\n",
    "mean = torch.zeros(6, **tkwargs)\n",
    "cov = torch.diag(torch.tensor([1e-6, 2e-6, 1e-6, 2e-6, 1e-6, 2e-6],**tkwargs))\n",
    "dist = torch.distributions.multivariate_normal.MultivariateNormal(mean, cov)\n",
    "sample = dist.sample(torch.Size([sample_size]))\n",
    "p_in = Particle(*sample.T, ts, tp0c, tmc2)\n",
    "\n",
    "# Lattice fixed parameters\n",
    "L_d = 1.00 # Drift length\n",
    "L_q = 0.1 # Quad length \n",
    "drift = Drift(torch.tensor(L_d, **tkwargs))"
   ]
  },
  {
   "cell_type": "code",
   "execution_count": 49,
   "id": "4d69f7ce-e76e-45bc-8168-e1a419f710cc",
   "metadata": {},
   "outputs": [],
   "source": [
    "# Objective function (O.F.)\n",
    "def beamsize(k1s):\n",
    "    \"\"\"Returns std(sqrt(x^2+y^2)) after lattice composed by len(k1s)+1 drifts with\n",
    "    len(k1s) quadrupoles in between.\n",
    "    \"\"\"\n",
    "    lattice = [drift]\n",
    "    for k1 in k1s:\n",
    "        lattice.append( Quadrupole(torch.tensor(L_q, **tkwargs), k1, NUM_STEPS) )\n",
    "        lattice.append( drift )\n",
    "    p_out = track_a_lattice(p_in, lattice)[-1]\n",
    "    return torch.std(torch.sqrt(p_out.x**2+p_out.y**2))\n",
    "\n",
    "# Model to optimize using torch.nn.Module\n",
    "class BeamSizeModel(torch.nn.Module):\n",
    "    \"\"\"Beam size torch module.\"\"\"\n",
    "    def __init__(self, k1s):\n",
    "        super().__init__()\n",
    "        self.register_parameter('k1s',torch.nn.Parameter(k1s))\n",
    "    def forward(self):\n",
    "        return beamsize(self.k1s)# +torch.norm(self....)  # O.F."
   ]
  },
  {
   "cell_type": "code",
   "execution_count": 50,
   "id": "589938c0-f823-4eca-a634-172f7b58b4a6",
   "metadata": {
    "tags": []
   },
   "outputs": [],
   "source": [
    "def train_model(model, training_iter):\n",
    "    history_param = [None] * training_iter\n",
    "    history_loss = [None] * training_iter\n",
    "    # print the trainable parameters\n",
    "    for param in model.named_parameters():\n",
    "        print(f'{param[0]} : {param[1]}')\n",
    "    \n",
    "    # Use the adam optimizer\n",
    "    optimizer = torch.optim.Adam(model.parameters(), lr=0.1)\n",
    "\n",
    "    for i in range(training_iter):\n",
    "        # Zero gradients from previous iteration\n",
    "        optimizer.zero_grad()\n",
    "        # Calc loss and backprop gradients\n",
    "        loss = model()  # loss is just O.F.\n",
    "        loss.backward()\n",
    "        if i%10==0: #print each 10 steps\n",
    "            print('Iter %d/%d - Loss: %.5f '% (\n",
    "                i + 1, training_iter, loss.item()\n",
    "            ))\n",
    "        for param in model.parameters():\n",
    "            history_param[i] = param.data.detach().numpy().copy()\n",
    "        history_loss[i] = loss.detach().numpy().copy()\n",
    "        optimizer.step()\n",
    "        \n",
    "\n",
    "    return np.asarray(history_param), np.asarray(history_loss)"
   ]
  },
  {
   "cell_type": "code",
   "execution_count": 51,
   "id": "cdb7309a-1332-4d92-9ec5-5c329596f4db",
   "metadata": {},
   "outputs": [
    {
     "name": "stdout",
     "output_type": "stream",
     "text": [
      "k1s : Parameter containing:\n",
      "tensor([0., 0., 0., 0., 0.], dtype=torch.float64, requires_grad=True)\n",
      "Iter 1/1000 - Loss: 0.00609 \n",
      "Iter 11/1000 - Loss: 0.00606 \n",
      "Iter 21/1000 - Loss: 0.00590 \n",
      "Iter 31/1000 - Loss: 0.00537 \n",
      "Iter 41/1000 - Loss: 0.00437 \n",
      "Iter 51/1000 - Loss: 0.00335 \n",
      "Iter 61/1000 - Loss: 0.00308 \n",
      "Iter 71/1000 - Loss: 0.00269 \n",
      "Iter 81/1000 - Loss: 0.00228 \n",
      "Iter 91/1000 - Loss: 0.00192 \n",
      "Iter 101/1000 - Loss: 0.00163 \n",
      "Iter 111/1000 - Loss: 0.00137 \n",
      "Iter 121/1000 - Loss: 0.00117 \n",
      "Iter 131/1000 - Loss: 0.00100 \n",
      "Iter 141/1000 - Loss: 0.00086 \n",
      "Iter 151/1000 - Loss: 0.00075 \n",
      "Iter 161/1000 - Loss: 0.00065 \n",
      "Iter 171/1000 - Loss: 0.00057 \n",
      "Iter 181/1000 - Loss: 0.00050 \n",
      "Iter 191/1000 - Loss: 0.00044 \n",
      "Iter 201/1000 - Loss: 0.00040 \n",
      "Iter 211/1000 - Loss: 0.00038 \n",
      "Iter 221/1000 - Loss: 0.00037 \n",
      "Iter 231/1000 - Loss: 0.00036 \n",
      "Iter 241/1000 - Loss: 0.00036 \n",
      "Iter 251/1000 - Loss: 0.00035 \n",
      "Iter 261/1000 - Loss: 0.00035 \n",
      "Iter 271/1000 - Loss: 0.00034 \n",
      "Iter 281/1000 - Loss: 0.00034 \n",
      "Iter 291/1000 - Loss: 0.00034 \n",
      "Iter 301/1000 - Loss: 0.00033 \n",
      "Iter 311/1000 - Loss: 0.00033 \n",
      "Iter 321/1000 - Loss: 0.00032 \n",
      "Iter 331/1000 - Loss: 0.00032 \n",
      "Iter 341/1000 - Loss: 0.00032 \n",
      "Iter 351/1000 - Loss: 0.00031 \n",
      "Iter 361/1000 - Loss: 0.00031 \n",
      "Iter 371/1000 - Loss: 0.00031 \n",
      "Iter 381/1000 - Loss: 0.00030 \n",
      "Iter 391/1000 - Loss: 0.00030 \n",
      "Iter 401/1000 - Loss: 0.00030 \n",
      "Iter 411/1000 - Loss: 0.00030 \n",
      "Iter 421/1000 - Loss: 0.00029 \n",
      "Iter 431/1000 - Loss: 0.00029 \n",
      "Iter 441/1000 - Loss: 0.00029 \n",
      "Iter 451/1000 - Loss: 0.00029 \n",
      "Iter 461/1000 - Loss: 0.00029 \n",
      "Iter 471/1000 - Loss: 0.00028 \n",
      "Iter 481/1000 - Loss: 0.00028 \n",
      "Iter 491/1000 - Loss: 0.00028 \n",
      "Iter 501/1000 - Loss: 0.00028 \n",
      "Iter 511/1000 - Loss: 0.00028 \n",
      "Iter 521/1000 - Loss: 0.00028 \n",
      "Iter 531/1000 - Loss: 0.00028 \n",
      "Iter 541/1000 - Loss: 0.00027 \n",
      "Iter 551/1000 - Loss: 0.00027 \n",
      "Iter 561/1000 - Loss: 0.00027 \n",
      "Iter 571/1000 - Loss: 0.00027 \n",
      "Iter 581/1000 - Loss: 0.00027 \n",
      "Iter 591/1000 - Loss: 0.00027 \n",
      "Iter 601/1000 - Loss: 0.00027 \n",
      "Iter 611/1000 - Loss: 0.00027 \n",
      "Iter 621/1000 - Loss: 0.00029 \n",
      "Iter 631/1000 - Loss: 0.00028 \n",
      "Iter 641/1000 - Loss: 0.00027 \n",
      "Iter 651/1000 - Loss: 0.00026 \n",
      "Iter 661/1000 - Loss: 0.00026 \n",
      "Iter 671/1000 - Loss: 0.00026 \n",
      "Iter 681/1000 - Loss: 0.00026 \n",
      "Iter 691/1000 - Loss: 0.00026 \n",
      "Iter 701/1000 - Loss: 0.00026 \n",
      "Iter 711/1000 - Loss: 0.00026 \n",
      "Iter 721/1000 - Loss: 0.00026 \n",
      "Iter 731/1000 - Loss: 0.00026 \n",
      "Iter 741/1000 - Loss: 0.00026 \n",
      "Iter 751/1000 - Loss: 0.00026 \n",
      "Iter 761/1000 - Loss: 0.00026 \n",
      "Iter 771/1000 - Loss: 0.00026 \n",
      "Iter 781/1000 - Loss: 0.00026 \n",
      "Iter 791/1000 - Loss: 0.00026 \n",
      "Iter 801/1000 - Loss: 0.00026 \n",
      "Iter 811/1000 - Loss: 0.00026 \n",
      "Iter 821/1000 - Loss: 0.00026 \n",
      "Iter 831/1000 - Loss: 0.00026 \n",
      "Iter 841/1000 - Loss: 0.00026 \n",
      "Iter 851/1000 - Loss: 0.00026 \n",
      "Iter 861/1000 - Loss: 0.00026 \n",
      "Iter 871/1000 - Loss: 0.00026 \n",
      "Iter 881/1000 - Loss: 0.00025 \n",
      "Iter 891/1000 - Loss: 0.00025 \n",
      "Iter 901/1000 - Loss: 0.00025 \n",
      "Iter 911/1000 - Loss: 0.00025 \n",
      "Iter 921/1000 - Loss: 0.00025 \n",
      "Iter 931/1000 - Loss: 0.00025 \n",
      "Iter 941/1000 - Loss: 0.00025 \n",
      "Iter 951/1000 - Loss: 0.00025 \n",
      "Iter 961/1000 - Loss: 0.00025 \n",
      "Iter 971/1000 - Loss: 0.00025 \n",
      "Iter 981/1000 - Loss: 0.00025 \n",
      "Iter 991/1000 - Loss: 0.00025 \n",
      "CPU times: user 28.7 s, sys: 10.1 s, total: 38.7 s\n",
      "Wall time: 19.5 s\n"
     ]
    }
   ],
   "source": [
    "%%time\n",
    "# Initial k1s\n",
    "k1s = torch.zeros(5, **tkwargs)\n",
    "\n",
    "# Optimization\n",
    "model = BeamSizeModel(k1s)\n",
    "params, loss = train_model(model, 1000)"
   ]
  },
  {
   "cell_type": "code",
   "execution_count": 52,
   "id": "f4cb3555-c5d5-4df7-8537-def2ea146372",
   "metadata": {
    "tags": []
   },
   "outputs": [
    {
     "data": {
      "text/plain": [
       "Text(0.5, 0, 'n_iter')"
      ]
     },
     "execution_count": 52,
     "metadata": {},
     "output_type": "execute_result"
    },
    {
     "data": {
      "image/png": "[encoded data removed]",
      "text/plain": [
       "<Figure size 432x288 with 1 Axes>"
      ]
     },
     "metadata": {
      "needs_background": "light"
     },
     "output_type": "display_data"
    },
    {
     "data": {
      "image/png": "[encoded data removed]",
      "text/plain": [
       "<Figure size 432x288 with 1 Axes>"
      ]
     },
     "metadata": {
      "needs_background": "light"
     },
     "output_type": "display_data"
    }
   ],
   "source": [
    "# Plot O.F. and parameters as function of iteration number\n",
    "for i in range(len(k1s)):\n",
    "    plt.plot(np.arange(len(params[:,0])), params[:,i], label=str(i))\n",
    "plt.legend()\n",
    "plt.ylabel(r'$K_1$')\n",
    "plt.xlabel('n_iter')\n",
    "plt.figure()\n",
    "plt.plot(np.arange(len(loss)), loss*1000)\n",
    "plt.ylabel(r'$\\sigma_r$ (mm)')\n",
    "plt.xlabel('n_iter')\n",
    "#params, loss"
   ]
  },
  {
   "cell_type": "code",
   "execution_count": 53,
   "id": "4c7b8b0b-41c2-45b6-8584-62553392fe1f",
   "metadata": {},
   "outputs": [
    {
     "data": {
      "text/plain": [
       "<matplotlib.legend.Legend at 0x7f969cef8040>"
      ]
     },
     "execution_count": 53,
     "metadata": {},
     "output_type": "execute_result"
    },
    {
     "data": {
      "image/png": "[encoded data removed]",
      "text/plain": [
       "<Figure size 432x288 with 1 Axes>"
      ]
     },
     "metadata": {
      "needs_background": "light"
     },
     "output_type": "display_data"
    }
   ],
   "source": [
    "# plot beamsize for final config \n",
    "lattice = [drift]\n",
    "k1s = torch.tensor(params[-1], **tkwargs)\n",
    "for k1 in k1s:\n",
    "    lattice.append( Quadrupole(torch.tensor(L_q, **tkwargs), k1, NUM_STEPS) )\n",
    "    lattice.append( drift )\n",
    "n=10\n",
    "stubbed_lattice = stub_lattice(lattice, n)\n",
    "all_p = track_a_lattice(p_in, stubbed_lattice)\n",
    "stdx, stdy, stdr, s = [torch.std(par.x) for par in all_p], [torch.std(par.y) for par in all_p], [torch.std(torch.sqrt(par.x**2+par.y**2)) for par in all_p], [par.s for par in all_p]\n",
    "plt.plot(s, np.array(stdx)*1000, label=r'$\\sigma_x$')\n",
    "plt.plot(s, np.array(stdy)*1000, label=r'$\\sigma_y$')\n",
    "plt.plot(s, np.array(stdr)*1000, label=r'$\\sigma_r$')\n",
    "plt.xlabel(r'$s$ (m)')\n",
    "plt.ylabel(r'$\\sigma_{x,y}$ (mm)')\n",
    "plt.legend()"
   ]
  },
  {
   "cell_type": "markdown",
   "id": "b2cb6170-7acc-4a0a-b5b9-159f5d4fe8a8",
   "metadata": {
    "tags": []
   },
   "source": [
    "# misc"
   ]
  },
  {
   "cell_type": "code",
   "execution_count": 54,
   "id": "2d70b825-cfd9-4814-87bd-1fbcd44f57ea",
   "metadata": {},
   "outputs": [
    {
     "data": {
      "text/plain": [
       "2.220446049250313e-16"
      ]
     },
     "execution_count": 54,
     "metadata": {},
     "output_type": "execute_result"
    }
   ],
   "source": [
    "np.finfo(np.float64).eps"
   ]
  },
  {
   "cell_type": "code",
   "execution_count": 55,
   "id": "ac894fa2-fa16-4850-a01a-a2508492bc35",
   "metadata": {},
   "outputs": [
    {
     "data": {
      "text/plain": [
       "2.220446049250313e-16"
      ]
     },
     "execution_count": 55,
     "metadata": {},
     "output_type": "execute_result"
    }
   ],
   "source": [
    "torch.finfo(torch.float64).eps"
   ]
  },
  {
   "cell_type": "code",
   "execution_count": 56,
   "id": "219b688b-7205-43ab-97af-ea186d9bcf7c",
   "metadata": {},
   "outputs": [
    {
     "data": {
      "text/plain": [
       "1.1920929e-07"
      ]
     },
     "execution_count": 56,
     "metadata": {},
     "output_type": "execute_result"
    }
   ],
   "source": [
    "np.finfo(np.float32).eps"
   ]
  },
  {
   "cell_type": "code",
   "execution_count": 57,
   "id": "29bf5c8c-9e16-4c02-b265-1c78d802e6cc",
   "metadata": {},
   "outputs": [
    {
     "data": {
      "text/plain": [
       "1.1920928955078125e-07"
      ]
     },
     "execution_count": 57,
     "metadata": {},
     "output_type": "execute_result"
    }
   ],
   "source": [
    "torch.finfo(torch.float32).eps"
   ]
  },
  {
   "cell_type": "markdown",
   "id": "3d7d2ed2-08b9-44c0-9fc7-5d7459ab3065",
   "metadata": {},
   "source": [
    "# Ryan test debug"
   ]
  },
  {
   "cell_type": "code",
   "execution_count": 58,
   "id": "f99c5136-6f60-481b-a16f-e9227c5ca39c",
   "metadata": {},
   "outputs": [],
   "source": [
    "# Particle bunch with Gaussian distribution\n",
    "c_light = 2.99792458e8 #speed of light in m/s\n",
    "m_e = 0.510998950e6 #electron mass in eV\n",
    "\n",
    "# Incoming particle\n",
    "s = 0.0 #initial s\n",
    "p0c = 4.0E+07  # Reference particle momentum in eV\n",
    "mc2 = 1*m_e  # electron mass in eV\n",
    "ts = torch.tensor(s)\n",
    "tp0c = torch.tensor(p0c)\n",
    "tmc2 = torch.tensor(mc2)\n",
    "\n",
    "\n",
    "sample_size = 10\n",
    "mean = torch.zeros(6)\n",
    "cov = torch.diag(torch.tensor([1e-6, 2e-6, 1e-6, 2e-6, 1e-6, 2e-6]))\n",
    "dist = torch.distributions.multivariate_normal.MultivariateNormal(mean, cov)\n",
    "sample = dist.sample(torch.Size([sample_size]))\n",
    "p_in = Particle(*sample.T, ts, tp0c, tmc2)"
   ]
  },
  {
   "cell_type": "code",
   "execution_count": 59,
   "id": "d94df384-fa27-4da7-ba45-e071b42f4e25",
   "metadata": {},
   "outputs": [],
   "source": [
    "# define lattice\n",
    "L=1.0 # Drift length in m\n",
    "d1 = Drift(torch.tensor(L))\n",
    "L = 0.1  # quad length in m\n",
    "K1 = 12.0  # Quad focusing strength. Positive is focusing in x\n",
    "NUM_STEPS = 5  # number of divisions for tracking. 1 is bmad default when there are\n",
    "# no other multipoles\n",
    "q1 = Quadrupole(torch.tensor(L), torch.tensor(K1), NUM_STEPS)\n",
    "\n",
    "lattice = [d1, q1]*7"
   ]
  },
  {
   "cell_type": "code",
   "execution_count": 60,
   "id": "f1f8fea5-5a2f-428b-b786-74c3406e40df",
   "metadata": {},
   "outputs": [
    {
     "name": "stderr",
     "output_type": "stream",
     "text": [
      "/tmp/ipykernel_253326/1195989846.py:2: UserWarning: Anomaly Detection has been enabled. This mode will increase the runtime and should only be enabled for debugging.\n",
      "  with torch.autograd.detect_anomaly():\n"
     ]
    }
   ],
   "source": [
    "# do track\n",
    "with torch.autograd.detect_anomaly():\n",
    "    out = track_a_lattice(p_in, lattice)"
   ]
  },
  {
   "cell_type": "code",
   "execution_count": 61,
   "id": "a560530f-2e8f-449e-b7c9-5d0c3c02e28e",
   "metadata": {},
   "outputs": [
    {
     "data": {
      "text/plain": [
       "[<matplotlib.lines.Line2D at 0x7f969ce04c70>]"
      ]
     },
     "execution_count": 61,
     "metadata": {},
     "output_type": "execute_result"
    },
    {
     "data": {
      "image/png": "[encoded data removed]",
      "text/plain": [
       "<Figure size 432x288 with 1 Axes>"
      ]
     },
     "metadata": {
      "needs_background": "light"
     },
     "output_type": "display_data"
    }
   ],
   "source": [
    "fig,ax = plt.subplots()\n",
    "data = []\n",
    "for i in range(len(out)):\n",
    "    data += [[out[i].s, torch.std(out[i].x)]]\n",
    "ax.plot(*torch.tensor(data).T)"
   ]
  },
  {
   "cell_type": "code",
   "execution_count": 62,
   "id": "123b3204-5205-4864-830d-7ef7a6d7fc65",
   "metadata": {},
   "outputs": [
    {
     "data": {
      "text/plain": [
       "tensor([[0.0000000000000000e+00, 5.6763418251648545e-04],\n",
       "        [1.0000000000000000e+00, 1.5763980336487293e-03],\n",
       "        [1.1000000238418579e+00, 1.6339517896994948e-03],\n",
       "        [2.0999999046325684e+00, 1.3554329052567482e-03],\n",
       "        [2.1999998092651367e+00, 1.2628750409930944e-03],\n",
       "        [3.1999998092651367e+00, 8.2629360258579254e-04],\n",
       "        [3.2999997138977051e+00, 9.2845095787197351e-04],\n",
       "        [4.2999997138977051e+00, 1.7508841119706631e-03],\n",
       "        [4.3999996185302734e+00, 1.7431547166779637e-03],\n",
       "        [5.3999996185302734e+00, 7.9921545693650842e-04],\n",
       "        [5.4999995231628418e+00, 7.0777151267975569e-04],\n",
       "        [6.4999995231628418e+00, 1.4367859112098813e-03],\n",
       "        [6.5999994277954102e+00, 1.5158808091655374e-03],\n",
       "        [7.5999994277954102e+00,                    nan],\n",
       "        [7.6999993324279785e+00,                    nan]])"
      ]
     },
     "execution_count": 62,
     "metadata": {},
     "output_type": "execute_result"
    }
   ],
   "source": [
    "tdata = torch.tensor(data)[:50]\n",
    "tdata"
   ]
  }
 ],
 "metadata": {
  "kernelspec": {
   "display_name": "Python 3 (ipykernel)",
   "language": "python",
   "name": "python3"
  },
  "language_info": {
   "codemirror_mode": {
    "name": "ipython",
    "version": 3
   },
   "file_extension": ".py",
   "mimetype": "text/x-python",
   "name": "python",
   "nbconvert_exporter": "python",
   "pygments_lexer": "ipython3",
   "version": "3.9.10"
  },
  "toc-autonumbering": true,
  "toc-showcode": false,
  "toc-showmarkdowntxt": false,
  "toc-showtags": false
 },
 "nbformat": 4,
 "nbformat_minor": 5
}
