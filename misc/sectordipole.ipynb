{
 "cells": [
  {
   "cell_type": "code",
   "execution_count": 1,
   "id": "07f69aca-7c4a-458f-9b72-76c2debd353c",
   "metadata": {},
   "outputs": [],
   "source": [
    "import numpy as np\n",
    "import torch\n",
    "from torch.nn import Module"
   ]
  },
  {
   "cell_type": "code",
   "execution_count": 2,
   "id": "01287449-2fa9-4418-80f3-5f64f6e42b2d",
   "metadata": {},
   "outputs": [],
   "source": [
    "class TorchSectorDipole(Module):\n",
    "    def __init__(self, name, rho, theta):\n",
    "        super().__init__()\n",
    "        self.name = name\n",
    "        self.rho = rho\n",
    "        self.theta = theta\n",
    "        \n",
    "    def get_transport_matrix(self):\n",
    "        M = torch.eye(6)\n",
    "        \n",
    "        C = torch.cos(torch.tensor(self.theta))\n",
    "        S = torch.sin(torch.tensor(self.theta))\n",
    "        h = 1/self.rho\n",
    "        L = self.rho*self.theta\n",
    "        \n",
    "        M[0,0] = C\n",
    "        M[0,1] = S/h\n",
    "        M[0,5] = (1-C)/h\n",
    "        M[1,0] = -h*S\n",
    "        M[1,1] = C\n",
    "        M[1,5] = S\n",
    "        M[2,3] = L\n",
    "        M[4,0] = S\n",
    "        M[4,1] = (1-C)/h\n",
    "        M[4,5] = (self.theta - S)/h\n",
    "        \n",
    "        return M\n",
    "\n",
    "    def transport_particle(self, particle_phasespace_vector):\n",
    "        return self.get_transport_matrix() @ particle_phasespace_vector\n",
    "    \n",
    "    def transport_sigma_matrix(self, sigma_matrix):\n",
    "        M = self.get_transport_matrix()\n",
    "        return M @ sigma_matrix @ torch.transpose(M,0,1)"
   ]
  },
  {
   "cell_type": "code",
   "execution_count": 3,
   "id": "34f7aaa6-e6fa-4532-bdbc-c671475a808a",
   "metadata": {},
   "outputs": [],
   "source": [
    "D1 = TorchSectorDipole('D1',3,np.radians(30))"
   ]
  },
  {
   "cell_type": "code",
   "execution_count": 4,
   "id": "b2a35a73-1844-4ecd-ba4c-e30dd22d2334",
   "metadata": {},
   "outputs": [
    {
     "data": {
      "text/plain": [
       "tensor([[ 0.8660,  1.5000,  0.0000,  0.0000,  0.0000,  0.4019],\n",
       "        [-0.1667,  0.8660,  0.0000,  0.0000,  0.0000,  0.5000],\n",
       "        [ 0.0000,  0.0000,  1.0000,  1.5708,  0.0000,  0.0000],\n",
       "        [ 0.0000,  0.0000,  0.0000,  1.0000,  0.0000,  0.0000],\n",
       "        [ 0.5000,  0.4019,  0.0000,  0.0000,  1.0000,  0.0708],\n",
       "        [ 0.0000,  0.0000,  0.0000,  0.0000,  0.0000,  1.0000]])"
      ]
     },
     "execution_count": 4,
     "metadata": {},
     "output_type": "execute_result"
    }
   ],
   "source": [
    "D1.get_transport_matrix()"
   ]
  }
 ],
 "metadata": {
  "kernelspec": {
   "display_name": "Python 3 (ipykernel)",
   "language": "python",
   "name": "python3"
  },
  "language_info": {
   "codemirror_mode": {
    "name": "ipython",
    "version": 3
   },
   "file_extension": ".py",
   "mimetype": "text/x-python",
   "name": "python",
   "nbconvert_exporter": "python",
   "pygments_lexer": "ipython3",
   "version": "3.9.10"
  }
 },
 "nbformat": 4,
 "nbformat_minor": 5
}
