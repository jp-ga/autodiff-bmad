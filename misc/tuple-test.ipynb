{
 "cells": [
  {
   "cell_type": "code",
   "execution_count": 1,
   "id": "1dc292d7-bbd0-45b7-97eb-7887885a11c2",
   "metadata": {},
   "outputs": [],
   "source": [
    "from collections import namedtuple"
   ]
  },
  {
   "cell_type": "code",
   "execution_count": 2,
   "id": "a55792af-adc9-47a9-ab76-4ce0bfc770f2",
   "metadata": {},
   "outputs": [],
   "source": [
    "Test = namedtuple('Test', 'a b c d', defaults=(None, None, 1, None))"
   ]
  },
  {
   "cell_type": "code",
   "execution_count": 3,
   "id": "9b71b6fe-dfb0-40b4-a76f-2ab09ae3d125",
   "metadata": {},
   "outputs": [
    {
     "data": {
      "text/plain": [
       "Test(a=None, b=None, c=1, d=None)"
      ]
     },
     "execution_count": 3,
     "metadata": {},
     "output_type": "execute_result"
    }
   ],
   "source": [
    "Test()"
   ]
  },
  {
   "cell_type": "code",
   "execution_count": 4,
   "id": "0a3e2304-2e87-4b15-9b6a-ca616f27c830",
   "metadata": {},
   "outputs": [
    {
     "data": {
      "text/plain": [
       "Test(a=None, b=3, c=1, d=None)"
      ]
     },
     "execution_count": 4,
     "metadata": {},
     "output_type": "execute_result"
    }
   ],
   "source": [
    "Test(b=3)"
   ]
  },
  {
   "cell_type": "code",
   "execution_count": 5,
   "id": "f38483de-5ff1-4d23-a42e-b7d1fc75db96",
   "metadata": {},
   "outputs": [
    {
     "data": {
      "text/plain": [
       "Test(a=1, b=2, c=3, d=4)"
      ]
     },
     "execution_count": 5,
     "metadata": {},
     "output_type": "execute_result"
    }
   ],
   "source": [
    "Test(1,2,3,4)"
   ]
  },
  {
   "cell_type": "code",
   "execution_count": 6,
   "id": "d3233cdc-3024-4ee5-a7b2-e642c0760edd",
   "metadata": {},
   "outputs": [
    {
     "data": {
      "text/plain": [
       "Test(a=1, b=2, c=3, d=None)"
      ]
     },
     "execution_count": 6,
     "metadata": {},
     "output_type": "execute_result"
    }
   ],
   "source": [
    "Test(1,2,3)"
   ]
  },
  {
   "cell_type": "code",
   "execution_count": null,
   "id": "6a544675-5c8c-49bb-b762-570862c22f6b",
   "metadata": {},
   "outputs": [],
   "source": []
  }
 ],
 "metadata": {
  "kernelspec": {
   "display_name": "Python 3 (ipykernel)",
   "language": "python",
   "name": "python3"
  },
  "language_info": {
   "codemirror_mode": {
    "name": "ipython",
    "version": 3
   },
   "file_extension": ".py",
   "mimetype": "text/x-python",
   "name": "python",
   "nbconvert_exporter": "python",
   "pygments_lexer": "ipython3",
   "version": "3.9.10"
  }
 },
 "nbformat": 4,
 "nbformat_minor": 5
}
