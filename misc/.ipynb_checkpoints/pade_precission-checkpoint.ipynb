{
 "cells": [
  {
   "cell_type": "code",
   "execution_count": 1,
   "id": "f31bef6e-500b-43a8-82e4-d2494be7ea3f",
   "metadata": {},
   "outputs": [],
   "source": [
    "import numpy as np\n",
    "import matplotlib.pyplot as plt"
   ]
  },
  {
   "cell_type": "code",
   "execution_count": 39,
   "id": "08d1b980-56c9-46eb-a044-c453a306e232",
   "metadata": {},
   "outputs": [],
   "source": [
    "def sinhc(x):\n",
    "    \"\"\"Pade approximant for sinh(x)/x\"\"\"\n",
    "    a = ( 1 + 53272705/360869676*x**2\n",
    "         + 38518909/7217393520*x**4\n",
    "         + 269197963/3940696861920*x**6\n",
    "         + 4585922449/15605159573203200*x**8 )\n",
    "    b = ( 1 - 2290747/120289892*x**2\n",
    "         + 1281433/7217393520*x**4\n",
    "         - 560401/562956694560*x**6\n",
    "         + 1029037/346781323848960*x**8 )\n",
    "    return a/b\n",
    "def sinhc10(x):\n",
    "    \"\"\"Pade approximant for sinh(x)/x\"\"\"\n",
    "    a = ( 1 + 53272705/360869676*x**2\n",
    "         + 38518909/7217393520*x**4\n",
    "         + 269197963/3940696861920*x**6\n",
    "         + 4585922449/15605159573203200*x**8 \n",
    "         + 481959816488503/363275871831577908403200*x**10 )\n",
    "    b = ( 1 - 2290747/120289892*x**2\n",
    "         + 1281433/7217393520*x**4\n",
    "         - 560401/562956694560*x**6\n",
    "         + 1029037/346781323848960*x**8 \n",
    "         - 37291724011/11008359752472057830400*x**10)\n",
    "    return a/b"
   ]
  },
  {
   "cell_type": "code",
   "execution_count": 42,
   "id": "7e74b8d7-5288-400b-9583-987377650c92",
   "metadata": {},
   "outputs": [],
   "source": [
    "eps = 2.220446049250313e-16\n",
    "x = np.linspace(-5, 5, 1000, dtype=np.double)\n",
    "y = x.copy()\n",
    "y[x==0] = 1\n",
    "y[x!=0] = np.sinh(x[x!=0])/x[x!=0]\n",
    "y_pade = sinhc(x)\n",
    "diff = np.abs(y_pade-y)/y"
   ]
  },
  {
   "cell_type": "code",
   "execution_count": 43,
   "id": "e5ae9669-e964-440a-a6aa-611411ed8c47",
   "metadata": {},
   "outputs": [
    {
     "data": {
      "text/plain": [
       "[<matplotlib.lines.Line2D at 0x7f05fc627190>]"
      ]
     },
     "execution_count": 43,
     "metadata": {},
     "output_type": "execute_result"
    },
    {
     "data": {
      "image/png": "[encoded data removed]",
      "text/plain": [
       "<Figure size 432x288 with 1 Axes>"
      ]
     },
     "metadata": {
      "needs_background": "light"
     },
     "output_type": "display_data"
    }
   ],
   "source": [
    "plt.plot(x, diff)"
   ]
  },
  {
   "cell_type": "code",
   "execution_count": null,
   "id": "f640ceb4-ffa7-4d0d-b952-4218a8075b4d",
   "metadata": {},
   "outputs": [],
   "source": []
  }
 ],
 "metadata": {
  "kernelspec": {
   "display_name": "Python 3 (ipykernel)",
   "language": "python",
   "name": "python3"
  },
  "language_info": {
   "codemirror_mode": {
    "name": "ipython",
    "version": 3
   },
   "file_extension": ".py",
   "mimetype": "text/x-python",
   "name": "python",
   "nbconvert_exporter": "python",
   "pygments_lexer": "ipython3",
   "version": "3.9.10"
  }
 },
 "nbformat": 4,
 "nbformat_minor": 5
}
