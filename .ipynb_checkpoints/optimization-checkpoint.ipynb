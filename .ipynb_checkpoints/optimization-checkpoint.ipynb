{
 "cells": [
  {
   "cell_type": "code",
   "execution_count": 1,
   "id": "7ca42451",
   "metadata": {
    "collapsed": false,
    "jupyter": {
     "outputs_hidden": false
    },
    "pycharm": {
     "name": "#%%\n"
    }
   },
   "outputs": [
    {
     "data": {
      "text/plain": [
       "('1.10.2', '1.22.2')"
      ]
     },
     "execution_count": 1,
     "metadata": {},
     "output_type": "execute_result"
    }
   ],
   "source": [
    "import numpy as np\n",
    "import torch\n",
    "from torch.autograd.functional import jacobian\n",
    "from torch.autograd.functional import hessian\n",
    "import matplotlib.pyplot as plt\n",
    "from track import *\n",
    "tkwargs = {\n",
    "    \"dtype\" : torch.double\n",
    "}\n",
    "import time\n",
    "np.set_printoptions(precision= 16, suppress=False)\n",
    "torch.set_printoptions(precision= 16, sci_mode=True)\n",
    "torch.__version__, np.__version__"
   ]
  },
  {
   "cell_type": "code",
   "execution_count": 2,
   "id": "6a0fb158",
   "metadata": {
    "collapsed": false,
    "jupyter": {
     "outputs_hidden": false
    },
    "pycharm": {
     "name": "#%%\n"
    }
   },
   "outputs": [],
   "source": [
    "c_light = 2.99792458e8 #speed of light in m/s\n",
    "m_e = 0.510998950e6 #electron mass in eV"
   ]
  },
  {
   "cell_type": "markdown",
   "id": "322abb2e",
   "metadata": {
    "pycharm": {
     "name": "#%% md\n"
    }
   },
   "source": [
    "# Quad strength optimization"
   ]
  },
  {
   "cell_type": "code",
   "execution_count": 3,
   "id": "25c42f52",
   "metadata": {
    "collapsed": false,
    "jupyter": {
     "outputs_hidden": false
    },
    "pycharm": {
     "name": "#%%\n"
    }
   },
   "outputs": [],
   "source": [
    "s = 0.0 #initial s\n",
    "p0c = 4.0E+07 #Reference particle momentum in eV\n",
    "mc2 = 1*m_e # electron mass in eV\n",
    "ts = torch.tensor(s, **tkwargs)\n",
    "tp0c = torch.tensor(p0c, **tkwargs)\n",
    "tmc2 = torch.tensor(mc2, **tkwargs)\n",
    "\n",
    "# Initial beam distribution\n",
    "sample_size = 1000\n",
    "mean = torch.zeros(6, **tkwargs)\n",
    "cov = torch.diag(torch.tensor([1e-6, 2e-6, 1e-6, 2e-6, 1e-6, 2e-6],**tkwargs))\n",
    "dist = torch.distributions.multivariate_normal.MultivariateNormal(mean, cov)\n",
    "sample = dist.sample(torch.Size([sample_size]))\n",
    "p_in = Particle(*sample.T, ts, tp0c, tmc2)\n",
    "\n",
    "# Lattice fixed parameters\n",
    "L_d = 1.00 # Drift length\n",
    "L_q = 0.1 # Quad length \n",
    "drift = Drift(L=torch.tensor(L_d, **tkwargs))"
   ]
  },
  {
   "cell_type": "code",
   "execution_count": 4,
   "id": "73f7c046",
   "metadata": {
    "collapsed": false,
    "jupyter": {
     "outputs_hidden": false
    },
    "pycharm": {
     "name": "#%%\n"
    }
   },
   "outputs": [],
   "source": [
    "# Objective function (O.F.)\n",
    "def beamsize(k1s):\n",
    "    \"\"\"Returns std(sqrt(x^2+y^2)) after lattice composed by len(k1s)+1 drifts with\n",
    "    len(k1s) quadrupoles in between.\n",
    "    \"\"\"\n",
    "    lattice = [drift]\n",
    "    for k1 in k1s:\n",
    "        lattice.append( Quadrupole(L=torch.tensor(L_q, **tkwargs), K1=k1) )\n",
    "        lattice.append( drift )\n",
    "    p_out = track_a_lattice(p_in, lattice)[-1]\n",
    "    return torch.std(torch.sqrt(p_out.x**2+p_out.y**2))\n",
    "\n",
    "# Model to optimize using torch.nn.Module\n",
    "class BeamSizeModel(torch.nn.Module):\n",
    "    \"\"\"Beam size torch module.\"\"\"\n",
    "    def __init__(self, k1s):\n",
    "        super().__init__()\n",
    "        self.register_parameter('k1s',torch.nn.Parameter(k1s))\n",
    "    def forward(self):\n",
    "        return beamsize(self.k1s) + torch.abs(torch.mean(self.k1s))*1e-3  # O.F."
   ]
  },
  {
   "cell_type": "code",
   "execution_count": 5,
   "id": "f54970e5",
   "metadata": {
    "collapsed": false,
    "jupyter": {
     "outputs_hidden": false
    },
    "pycharm": {
     "name": "#%%\n"
    }
   },
   "outputs": [],
   "source": [
    "def train_model(model, training_iter):\n",
    "    history_param = [None] * training_iter\n",
    "    history_loss = [None] * training_iter\n",
    "    # print the trainable parameters\n",
    "    for param in model.named_parameters():\n",
    "        print(f'{param[0]} : {param[1]}')\n",
    "    \n",
    "    # Use the adam optimizer\n",
    "    optimizer = torch.optim.Adam(model.parameters(), lr=0.1)\n",
    "\n",
    "    for i in range(training_iter):\n",
    "        # Zero gradients from previous iteration\n",
    "        optimizer.zero_grad()\n",
    "        # Calc loss and backprop gradients\n",
    "        loss = model()  # loss is just O.F.\n",
    "        loss.backward()\n",
    "        if i%10==0: #print each 10 steps\n",
    "            print('Iter %d/%d - Loss: %.5f '% (\n",
    "                i + 1, training_iter, loss.item()\n",
    "            ))\n",
    "        for param in model.parameters():\n",
    "            history_param[i] = param.data.detach().numpy().copy()\n",
    "        history_loss[i] = loss.detach().numpy().copy()\n",
    "        optimizer.step()\n",
    "        \n",
    "\n",
    "    return np.asarray(history_param), np.asarray(history_loss)"
   ]
  },
  {
   "cell_type": "code",
   "execution_count": 6,
   "id": "c21b75c1",
   "metadata": {
    "collapsed": false,
    "jupyter": {
     "outputs_hidden": false
    },
    "pycharm": {
     "name": "#%%\n"
    }
   },
   "outputs": [
    {
     "name": "stdout",
     "output_type": "stream",
     "text": [
      "k1s : Parameter containing:\n",
      "tensor([0., 0., 0., 0., 0., 0., 0., 0., 0., 0.], dtype=torch.float64,\n",
      "       requires_grad=True)\n",
      "Iter 1/500 - Loss: 0.01086 \n",
      "Iter 11/500 - Loss: 0.01106 \n",
      "Iter 21/500 - Loss: 0.01097 \n",
      "Iter 31/500 - Loss: 0.01089 \n",
      "Iter 41/500 - Loss: 0.01087 \n",
      "Iter 51/500 - Loss: 0.01084 \n",
      "Iter 61/500 - Loss: 0.01077 \n",
      "Iter 71/500 - Loss: 0.01036 \n",
      "Iter 81/500 - Loss: 0.00785 \n",
      "Iter 91/500 - Loss: 0.00323 \n",
      "Iter 101/500 - Loss: 0.00223 \n",
      "Iter 111/500 - Loss: 0.00189 \n",
      "Iter 121/500 - Loss: 0.00173 \n",
      "Iter 131/500 - Loss: 0.00155 \n",
      "Iter 141/500 - Loss: 0.00140 \n",
      "Iter 151/500 - Loss: 0.00128 \n",
      "Iter 161/500 - Loss: 0.00117 \n",
      "Iter 171/500 - Loss: 0.00106 \n",
      "Iter 181/500 - Loss: 0.00095 \n",
      "Iter 191/500 - Loss: 0.00083 \n",
      "Iter 201/500 - Loss: 0.00073 \n",
      "Iter 211/500 - Loss: 0.00065 \n",
      "Iter 221/500 - Loss: 0.00060 \n",
      "Iter 231/500 - Loss: 0.00054 \n",
      "Iter 241/500 - Loss: 0.00050 \n",
      "Iter 251/500 - Loss: 0.00046 \n",
      "Iter 261/500 - Loss: 0.00043 \n",
      "Iter 271/500 - Loss: 0.00041 \n",
      "Iter 281/500 - Loss: 0.00042 \n",
      "Iter 291/500 - Loss: 0.00040 \n",
      "Iter 301/500 - Loss: 0.00040 \n",
      "Iter 311/500 - Loss: 0.00039 \n",
      "Iter 321/500 - Loss: 0.00039 \n",
      "Iter 331/500 - Loss: 0.00039 \n",
      "Iter 341/500 - Loss: 0.00038 \n",
      "Iter 351/500 - Loss: 0.00038 \n",
      "Iter 361/500 - Loss: 0.00038 \n",
      "Iter 371/500 - Loss: 0.00037 \n",
      "Iter 381/500 - Loss: 0.00037 \n",
      "Iter 391/500 - Loss: 0.00037 \n",
      "Iter 401/500 - Loss: 0.00037 \n",
      "Iter 411/500 - Loss: 0.00036 \n",
      "Iter 421/500 - Loss: 0.00036 \n",
      "Iter 431/500 - Loss: 0.00038 \n",
      "Iter 441/500 - Loss: 0.00037 \n",
      "Iter 451/500 - Loss: 0.00037 \n",
      "Iter 461/500 - Loss: 0.00036 \n",
      "Iter 471/500 - Loss: 0.00035 \n",
      "Iter 481/500 - Loss: 0.00036 \n",
      "Iter 491/500 - Loss: 0.00035 \n",
      "CPU times: user 50 s, sys: 21.6 s, total: 1min 11s\n",
      "Wall time: 35.9 s\n"
     ]
    }
   ],
   "source": [
    "%%time\n",
    "# Initial k1s\n",
    "k1s = torch.zeros(10, **tkwargs)\n",
    "\n",
    "# Optimization\n",
    "model = BeamSizeModel(k1s)\n",
    "params, loss = train_model(model, 500)"
   ]
  },
  {
   "cell_type": "code",
   "execution_count": 7,
   "id": "6e954864",
   "metadata": {
    "collapsed": false,
    "jupyter": {
     "outputs_hidden": false
    },
    "pycharm": {
     "name": "#%%\n"
    }
   },
   "outputs": [
    {
     "data": {
      "text/plain": [
       "Text(0.5, 0, 'n_iter')"
      ]
     },
     "execution_count": 7,
     "metadata": {},
     "output_type": "execute_result"
    },
    {
     "data": {
      "image/png": "[encoded data removed]",
      "text/plain": [
       "<Figure size 432x288 with 1 Axes>"
      ]
     },
     "metadata": {
      "needs_background": "light"
     },
     "output_type": "display_data"
    },
    {
     "data": {
      "image/png": "[encoded data removed]",
      "text/plain": [
       "<Figure size 432x288 with 1 Axes>"
      ]
     },
     "metadata": {
      "needs_background": "light"
     },
     "output_type": "display_data"
    }
   ],
   "source": [
    "# Plot O.F. and parameters as function of iteration number\n",
    "for i in range(len(k1s)):\n",
    "    plt.plot(np.arange(len(params[:,0])), params[:,i], label=str(i))\n",
    "plt.legend()\n",
    "plt.ylabel(r'$K_1$')\n",
    "plt.xlabel('n_iter')\n",
    "plt.figure()\n",
    "plt.plot(np.arange(len(loss)), loss*1000)\n",
    "plt.ylabel(r'$\\sigma_r$ (mm)')\n",
    "plt.xlabel('n_iter')\n",
    "#params, loss"
   ]
  },
  {
   "cell_type": "code",
   "execution_count": 8,
   "id": "a1663f26",
   "metadata": {
    "collapsed": false,
    "jupyter": {
     "outputs_hidden": false
    },
    "pycharm": {
     "name": "#%%\n"
    }
   },
   "outputs": [
    {
     "data": {
      "text/plain": [
       "<matplotlib.legend.Legend at 0x7fa8de74e580>"
      ]
     },
     "execution_count": 8,
     "metadata": {},
     "output_type": "execute_result"
    },
    {
     "data": {
      "image/png": "[encoded data removed]",
      "text/plain": [
       "<Figure size 432x288 with 1 Axes>"
      ]
     },
     "metadata": {
      "needs_background": "light"
     },
     "output_type": "display_data"
    }
   ],
   "source": [
    "# plot beamsize for final config\n",
    "lattice = [drift]\n",
    "k1s = torch.tensor(params[-1], **tkwargs)\n",
    "for k1 in k1s:\n",
    "    lattice.append( Quadrupole(L=torch.tensor(L_q, **tkwargs), K1=k1) )\n",
    "    lattice.append( drift )\n",
    "n=10\n",
    "stubbed_lattice = stub_lattice(lattice, n)\n",
    "all_p = track_a_lattice(p_in, stubbed_lattice)\n",
    "stdx, stdy, stdr, s = [torch.std(par.x) for par in all_p], [torch.std(par.y) for par in all_p], [torch.std(torch.sqrt(par.x**2+par.y**2)) for par in all_p], [par.s for par in all_p]\n",
    "plt.plot(s, np.array(stdx)*1000, label=r'$\\sigma_x$')\n",
    "plt.plot(s, np.array(stdy)*1000, label=r'$\\sigma_y$')\n",
    "plt.plot(s, np.array(stdr)*1000, label=r'$\\sigma_r$')\n",
    "plt.xlabel(r'$s$ (m)')\n",
    "plt.ylabel(r'$\\sigma_{x,y}$ (mm)')\n",
    "plt.legend()"
   ]
  },
  {
   "cell_type": "markdown",
   "id": "b009d153-8450-484a-9c61-f8c1fa9e36e6",
   "metadata": {},
   "source": [
    "# Offset estimation"
   ]
  },
  {
   "cell_type": "code",
   "execution_count": 9,
   "id": "40a8d0bb-9e8b-4504-93f9-30283760a5e6",
   "metadata": {},
   "outputs": [],
   "source": [
    "# 1 quad (dqd)\n",
    "# ground truth beamline: show focusing case (solution), add random fixed x-offsets, track beam again: 2D histogram\n",
    "# model 2: give beam propagation data (2D histogram), try to get offsets st histogram is close. \n",
    "# Loss: KL-divergence: comparse prob distros"
   ]
  }
 ],
 "metadata": {
  "kernelspec": {
   "display_name": "Python 3 (ipykernel)",
   "language": "python",
   "name": "python3"
  },
  "language_info": {
   "codemirror_mode": {
    "name": "ipython",
    "version": 3
   },
   "file_extension": ".py",
   "mimetype": "text/x-python",
   "name": "python",
   "nbconvert_exporter": "python",
   "pygments_lexer": "ipython3",
   "version": "3.9.10"
  },
  "toc-autonumbering": true,
  "toc-showcode": false,
  "toc-showmarkdowntxt": false,
  "toc-showtags": false
 },
 "nbformat": 4,
 "nbformat_minor": 5
}
